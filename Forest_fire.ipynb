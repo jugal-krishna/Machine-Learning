{
 "cells": [
  {
   "cell_type": "markdown",
   "metadata": {},
   "source": [
    "<b>Jugal Krishna Kakarla \n",
    "\n",
    "USC ID: 8576569220</b>"
   ]
  },
  {
   "cell_type": "code",
   "execution_count": 1,
   "metadata": {},
   "outputs": [],
   "source": [
    "# Import Packages\n",
    "\n",
    "import numpy as np\n",
    "import pandas as pd\n",
    "import sklearn\n",
    "import math\n",
    "from sklearn.neighbors import NearestCentroid\n",
    "from sklearn import svm\n",
    "from sklearn.metrics import accuracy_score \n",
    "from sklearn.neighbors import KNeighborsClassifier\n",
    "from sklearn.preprocessing import StandardScaler\n",
    "from sklearn.linear_model import LogisticRegression\n",
    "from sklearn.ensemble import RandomForestClassifier\n",
    "from sklearn.neural_network import MLPClassifier\n",
    "from sklearn.metrics import confusion_matrix\n",
    "from sklearn.metrics import f1_score\n",
    "from sklearn.dummy import DummyClassifier\n",
    "import seaborn"
   ]
  },
  {
   "cell_type": "code",
   "execution_count": 2,
   "metadata": {},
   "outputs": [],
   "source": [
    "# Import Datasets\n",
    "\n",
    "train_data = pd.read_csv('algerian_fires_train.csv') # Train dataset\n",
    "test_data = pd.read_csv('algerian_fires_test.csv') # Test dataset"
   ]
  },
  {
   "cell_type": "markdown",
   "metadata": {},
   "source": [
    "# Preprocessing:"
   ]
  },
  {
   "cell_type": "code",
   "execution_count": 3,
   "metadata": {},
   "outputs": [],
   "source": [
    "# Function to Normalize the dataset\n",
    "\n",
    "def Normalize(tr_dataset, test_dataset):\n",
    "\n",
    "    \"\"\"\n",
    "    :param tr_dataset :  Training dataset to be normalized (Dataframe)\n",
    "    :param test_dataset : Test dataset to be normalized (Dataframe)\n",
    "    :return: Normalized Dataset (Dataframe)\n",
    "    \"\"\"\n",
    "\n",
    "    scaler = StandardScaler() # Initialize standard scaler\n",
    "    \n",
    "    dataset1 = tr_dataset.drop(columns=['Date', 'Classes']) # Drop the date and classes of i/p dataset\n",
    "    col_names = list(dataset1.columns) # Get list of column names\n",
    "    scaler.fit(dataset1) # Standardization\n",
    "    \n",
    "    tr_dataset_n = scaler.transform(dataset1)\n",
    "    tr_dataset_n = pd.DataFrame(tr_dataset_n, columns=col_names) # Convert into dataframe\n",
    "    tr_dataset_n['Classes'] = tr_dataset['Classes'] # Add classes column\n",
    "    tr_dataset_n['Date'] = tr_dataset['Date'] # Add date column\n",
    "    temp_cols=tr_dataset_n.columns.tolist() # List of input dataset columns\n",
    "    new_cols=temp_cols[-1:] + temp_cols[:-1] # Reorder columns\n",
    "    tr_dataset_n=tr_dataset_n[new_cols]\n",
    "    \n",
    "    dataset1 = test_dataset.drop(columns=['Date', 'Classes']) # Drop the date and classes of i/p dataset\n",
    "    test_dataset_n = scaler.transform(dataset1)\n",
    "    test_dataset_n = pd.DataFrame(test_dataset_n, columns=col_names) # Convert into dataframe\n",
    "    test_dataset_n['Classes'] = test_dataset['Classes'] # Add classes column\n",
    "    test_dataset_n['Date'] = test_dataset['Date'] # Add date column\n",
    "    temp_cols=test_dataset_n.columns.tolist() # List of input dataset columns\n",
    "    new_cols=temp_cols[-1:] + temp_cols[:-1] # Reorder columns\n",
    "    test_dataset_n=test_dataset_n[new_cols]\n",
    "    \n",
    "    return tr_dataset_n, test_dataset_n"
   ]
  },
  {
   "cell_type": "code",
   "execution_count": 4,
   "metadata": {},
   "outputs": [],
   "source": [
    "# Feature engineering\n",
    "\n",
    "# Add n day avg columns features\n",
    "\n",
    "def add_n_dayavg(tr_dataset, test_dataset, col_names, n_days = 3):\n",
    "    \n",
    "    \"\"\"\n",
    "    \n",
    "    :param tr_dataset: Train dataset (Dataframe)\n",
    "    :param test_dataset: Test dataset (Dataframe)\n",
    "    :param col_names: Column names of dataset to compute the n_day rolling averages for (list of str)\n",
    "    :param n_days: Number of days (int, default=3)\n",
    "    :param dataset_type: Type of dataset (str, default='train')\n",
    "    :return: Dataset with new n_day avg columns of the columns in col_names added to it\n",
    "    \"\"\"\n",
    "    n_tr = len(tr_dataset) # Length of train dataset\n",
    "    n_test = len(test_dataset) # Length of test dataset\n",
    "    l_rows = tr_dataset.iloc[n_tr-3:n_tr] # Take last 3 rows of train data\n",
    "    test_dataset = pd.concat([l_rows, test_dataset]).reset_index(drop = True) # Add last 3 rows of train data to test data \n",
    "    tr_dataset = tr_dataset.drop(labels=range(n_tr-3,n_tr), axis=0) # Remove last 3 rows of train data\n",
    "    n_tr = len(tr_dataset) # update length of training dataset\n",
    "    n_test = len(test_dataset) # update length of test dataset\n",
    "    \n",
    "    # Add new featured columns to training set\n",
    "    for col_name in col_names:\n",
    "        col = tr_dataset[col_name]\n",
    "        new_col = list(col[0:n_days])\n",
    "        for i in range(n_days, len(col)):\n",
    "            new_col.append(np.mean(col[i-n_days:i]))\n",
    "        tr_dataset['3_day_avg_' + col_name] = new_col\n",
    "    \n",
    "    # Add new featured columns to test set\n",
    "    for col_name in col_names:\n",
    "        col = test_dataset[col_name]\n",
    "        new_col = list(col[0:n_days])\n",
    "        for i in range(n_days, len(col)):\n",
    "            new_col.append(np.mean(col[i-n_days:i]))\n",
    "        test_dataset['3_day_avg_' + col_name] = new_col\n",
    "    test_dataset = test_dataset.drop(labels=range(0,3), axis=0) # Remove first 3 rows of test set\n",
    "    \n",
    "    return tr_dataset, test_dataset\n",
    "\n",
    "# Apply feature engineering\n",
    "\n",
    "new_tr_data = train_data.copy() # Initialize featured train data\n",
    "new_test_data = test_data.copy() # Initialize featured test data\n",
    "col_names = [test_data.columns] # List of column names\n",
    "col_names = col_names[0][1:-2] # Exclude date and classes\n",
    "new_tr_data, new_test_data = add_n_dayavg(new_tr_data,new_test_data, col_names, n_days = 3) # Featured datasets\n"
   ]
  },
  {
   "cell_type": "markdown",
   "metadata": {},
   "source": [
    "# Helper Functions:"
   ]
  },
  {
   "cell_type": "code",
   "execution_count": 5,
   "metadata": {},
   "outputs": [],
   "source": [
    "# Function to Evaluate model performance on test set\n",
    "\n",
    "def evaluate(model, train_dataset, test_dataset):\n",
    "    \"\"\"\n",
    "    \n",
    "    :param model: Model whose performance is to be evaluated\n",
    "    :param train_dataset: Training dataset (Dataframe)\n",
    "    :param test_dataset: Test dataset (Dataframe)\n",
    "    :return: Accuracy on test dataset\n",
    "    \"\"\"\n",
    "    \n",
    "    tr_data = np.array(train_dataset.drop(columns=['Date', 'Classes'])) # Input training features\n",
    "    z1 = np.array(train_dataset['Classes']) # Training classes\n",
    "\n",
    "    test_data = np.array(test_dataset.drop(columns=['Date', 'Classes'])) # Input test features\n",
    "    z2 = np.array(test_dataset['Classes']) # Test classes\n",
    "\n",
    "    model.fit(tr_data, z1) # Train model\n",
    "    pred_classes = model.predict(test_data) # Use model for prediction on test data\n",
    "    accuracy = accuracy_score(pred_classes, z2) # Accuracy\n",
    "\n",
    "    return accuracy, pred_classes"
   ]
  },
  {
   "cell_type": "markdown",
   "metadata": {},
   "source": [
    "# Models:"
   ]
  },
  {
   "cell_type": "markdown",
   "metadata": {},
   "source": [
    "# NMC (Baseline model):"
   ]
  },
  {
   "cell_type": "markdown",
   "metadata": {},
   "source": [
    "NMC without feature engineering:"
   ]
  },
  {
   "cell_type": "code",
   "execution_count": 6,
   "metadata": {},
   "outputs": [
    {
     "name": "stdout",
     "output_type": "stream",
     "text": [
      "Accuracy on test set = 78.33333333333333%\n",
      "F1 score = 0.6285714285714286\n"
     ]
    },
    {
     "data": {
      "image/png": "[encoded data removed]",
      "text/plain": [
       "<Figure size 432x288 with 2 Axes>"
      ]
     },
     "metadata": {
      "needs_background": "light"
     },
     "output_type": "display_data"
    }
   ],
   "source": [
    "# NMC Classifier\n",
    "\n",
    "classifier = NearestCentroid() # Initialize the classifier\n",
    "tr_data1 = np.array(train_data.drop(columns=['Date','Classes'])) # Train features\n",
    "z1 = np.array(train_data['Classes']) # Train classes\n",
    "classifier.fit(tr_data1, z1) # Train the classifier\n",
    "test_data1 = np.array(test_data.drop(columns=['Date','Classes'])) # Test features\n",
    "z2 = np.array(test_data['Classes']) # Test Classes\n",
    "classes = classifier.predict(test_data1) # Predicted classes\n",
    "print(f'Accuracy on test set = {classifier.score(test_data1, z2)*100}%') # Accuracy\n",
    "print(f'F1 score = {f1_score(z2, classes)}') # F1 score\n",
    "conf_mat = confusion_matrix(z2, classes) # Confusion matrix \n",
    "heat_map = seaborn.heatmap(conf_mat, annot=True) # Heatmap"
   ]
  },
  {
   "cell_type": "code",
   "execution_count": 7,
   "metadata": {},
   "outputs": [
    {
     "name": "stdout",
     "output_type": "stream",
     "text": [
      "Accuracy on train set = 74.45652173913044%\n",
      "F1 score = 0.7661691542288558\n"
     ]
    },
    {
     "data": {
      "image/png": "[encoded data removed]",
      "text/plain": [
       "<Figure size 432x288 with 2 Axes>"
      ]
     },
     "metadata": {
      "needs_background": "light"
     },
     "output_type": "display_data"
    }
   ],
   "source": [
    "# Performance metrics on train set\n",
    "\n",
    "classes = classifier.predict(tr_data1) # Predicted classes\n",
    "print(f'Accuracy on train set = {classifier.score(tr_data1, z1)*100}%') # Accuracy\n",
    "print(f'F1 score = {f1_score(z1, classes)}') # F1 score\n",
    "conf_mat = confusion_matrix(z1, classes) # Confusion matrix \n",
    "heat_map = seaborn.heatmap(conf_mat, annot=True) # Heatmap"
   ]
  },
  {
   "cell_type": "markdown",
   "metadata": {},
   "source": [
    "With Normalization:"
   ]
  },
  {
   "cell_type": "code",
   "execution_count": 8,
   "metadata": {},
   "outputs": [
    {
     "name": "stdout",
     "output_type": "stream",
     "text": [
      "Accuracy on test set = 81.66666666666667%\n",
      "F1 score = 0.7027027027027025\n"
     ]
    },
    {
     "data": {
      "image/png": "[encoded data removed]",
      "text/plain": [
       "<Figure size 432x288 with 2 Axes>"
      ]
     },
     "metadata": {
      "needs_background": "light"
     },
     "output_type": "display_data"
    }
   ],
   "source": [
    "# NMC Classifier with Normalization\n",
    "\n",
    "tr_dataset, test_dataset = Normalize(train_data, test_data) \n",
    "\n",
    "classifier = NearestCentroid() # Initialize the classifier\n",
    "tr_data1 = np.array(tr_dataset.drop(columns=['Date','Classes'])) # Train features\n",
    "z1 = np.array(tr_dataset['Classes']) # Train classes\n",
    "classifier.fit(tr_data1, z1) # Train the classifier\n",
    "test_data1 = np.array(test_dataset.drop(columns=['Date','Classes'])) # Test features\n",
    "z2 = np.array(test_dataset['Classes']) # Test Classes\n",
    "classes = classifier.predict(test_data1) # Predicted classes\n",
    "print(f'Accuracy on test set = {classifier.score(test_data1, z2)*100}%') # Accuracy\n",
    "print(f'F1 score = {f1_score(z2, classes)}') # F1 score\n",
    "conf_mat = confusion_matrix(z2, classes) # Confusion matrix \n",
    "heat_map = seaborn.heatmap(conf_mat, annot=True) # Heatmap"
   ]
  },
  {
   "cell_type": "code",
   "execution_count": 9,
   "metadata": {},
   "outputs": [
    {
     "name": "stdout",
     "output_type": "stream",
     "text": [
      "Accuracy on train set = 88.04347826086956%\n",
      "F1 score = 0.8981481481481481\n"
     ]
    },
    {
     "data": {
      "image/png": "[encoded data removed]",
      "text/plain": [
       "<Figure size 432x288 with 2 Axes>"
      ]
     },
     "metadata": {
      "needs_background": "light"
     },
     "output_type": "display_data"
    }
   ],
   "source": [
    "# Performance metrics on train set\n",
    "\n",
    "z2 = np.array(tr_dataset['Classes']) # Train Classes\n",
    "classes = classifier.predict(tr_data1) # Predicted classes\n",
    "print(f'Accuracy on train set = {classifier.score(tr_data1, z2)*100}%') # Accuracy\n",
    "print(f'F1 score = {f1_score(z2, classes)}') # F1 score\n",
    "conf_mat = confusion_matrix(z2, classes) # Confusion matrix \n",
    "heat_map = seaborn.heatmap(conf_mat, annot=True) # Heatmap"
   ]
  },
  {
   "cell_type": "markdown",
   "metadata": {},
   "source": [
    "NMC with feature engineering:"
   ]
  },
  {
   "cell_type": "code",
   "execution_count": 10,
   "metadata": {},
   "outputs": [
    {
     "name": "stdout",
     "output_type": "stream",
     "text": [
      "Accuracy on test set = 73.33333333333333%\n",
      "F1 score = 0.5555555555555555\n"
     ]
    },
    {
     "data": {
      "image/png": "[encoded data removed]",
      "text/plain": [
       "<Figure size 432x288 with 2 Axes>"
      ]
     },
     "metadata": {
      "needs_background": "light"
     },
     "output_type": "display_data"
    }
   ],
   "source": [
    "# NMC Classifier\n",
    "\n",
    "classifier = NearestCentroid() # Initialize the classifier\n",
    "tr_data1 = np.array(new_tr_data.drop(columns=['Date','Classes'])) # Train features\n",
    "z1 = np.array(new_tr_data['Classes']) # Train classes\n",
    "classifier.fit(tr_data1, z1) # Train the classifier\n",
    "test_data1 = np.array(new_test_data.drop(columns=['Date','Classes'])) # Test features\n",
    "z2 = np.array(new_test_data['Classes']) # Test Classes\n",
    "classes = classifier.predict(test_data1) # Predicted classes\n",
    "print(f'Accuracy on test set = {classifier.score(test_data1, z2)*100}%') # Accuracy\n",
    "print(f'F1 score = {f1_score(z2, classes)}') # F1 score\n",
    "conf_mat = confusion_matrix(z2, classes) # Confusion matrix \n",
    "heat_map = seaborn.heatmap(conf_mat, annot=True) # Heatmap"
   ]
  },
  {
   "cell_type": "code",
   "execution_count": 11,
   "metadata": {},
   "outputs": [
    {
     "name": "stdout",
     "output_type": "stream",
     "text": [
      "Accuracy on train set = 71.27071823204419%\n",
      "F1 score = 0.7319587628865979\n"
     ]
    },
    {
     "data": {
      "image/png": "[encoded data removed]",
      "text/plain": [
       "<Figure size 432x288 with 2 Axes>"
      ]
     },
     "metadata": {
      "needs_background": "light"
     },
     "output_type": "display_data"
    }
   ],
   "source": [
    "# Performance metrics on train set\n",
    "\n",
    "classes = classifier.predict(tr_data1) # Predicted classes\n",
    "print(f'Accuracy on train set = {classifier.score(tr_data1, z1)*100}%') # Accuracy\n",
    "print(f'F1 score = {f1_score(z1, classes)}') # F1 score\n",
    "conf_mat = confusion_matrix(z1, classes) # Confusion matrix \n",
    "heat_map = seaborn.heatmap(conf_mat, annot=True) # Heatmap"
   ]
  },
  {
   "cell_type": "markdown",
   "metadata": {},
   "source": [
    "# SVM:"
   ]
  },
  {
   "cell_type": "code",
   "execution_count": 12,
   "metadata": {},
   "outputs": [],
   "source": [
    "# K-fold cross validation for SVM\n",
    "\n",
    "def k_fold_CV_SVM(dataset, C, kernel, gamma, degree, k=10, drop=3):\n",
    "    \"\"\"\n",
    "\n",
    "    :param dataset: Training dataset (Dataframe)\n",
    "    :param C: List of C values to be evaluated (list of int)\n",
    "    :param kernel: List of kernel types to be evaluated (list of str)\n",
    "    :param gamma: List of gamma values to be evaluated (list of str or int)\n",
    "    :param degree: List of degeree values to be evaluated (list of int)\n",
    "    :param k: num of folds (int, default=10)\n",
    "    :param drop: Number of samples to be dropped, equal to n_days in add_n_dayavg (default=3)\n",
    "    :return: fin_acc, acc_opt, C_opt, gamma_opt, degree_opt, kernel_opt i.e, optimum hyperparameters\n",
    "    \"\"\"\n",
    "    \n",
    "    n = round(len(dataset) / k) # Length of each batch\n",
    "    fin_acc = [] # Save final accuracies after each search\n",
    "    acc_opt = 0 # Initialize optimum accuracy\n",
    "    C_opt = 0 # Initialize optimum C\n",
    "    gamma_opt = 0.1 # Initialize optimum gamma\n",
    "    degree_opt = 1 # Initialize optimum degree\n",
    "    kernel_opt = 'rbf' # Initialize optimum kernel\n",
    "    \n",
    "    # Start search\n",
    "    for c in C:\n",
    "        for ker in kernel:\n",
    "            for gam in gamma:\n",
    "                for deg in degree:\n",
    "                    model = svm.SVC(C=c, kernel=ker, gamma=gam, degree=deg) # Initialize model\n",
    "                    accuracy = [] # Accuracy per fold\n",
    "                    # Split the data to train and val datasets\n",
    "                    for i in range(0, k): \n",
    "                        val_dataset = dataset.iloc[i * n:(i + 1) * n]\n",
    "                        tr_dataset = dataset.drop(range(i * n, (i + 1) * n))\n",
    "                        if i != 0 and drop != 0:\n",
    "                            tr_dataset = tr_dataset.drop(range(i * n - drop, i * n))\n",
    "                        acc, pred_classes = evaluate(model, tr_dataset, val_dataset) # Train and evaluate the model\n",
    "                        accuracy.append(acc)\n",
    "                    fin_acc.append(np.mean(accuracy)) \n",
    "                    # Update optimum parameters if accuracy improves\n",
    "                    if np.mean(accuracy) > acc_opt:\n",
    "                        acc_opt = np.mean(accuracy)\n",
    "                        C_opt = c\n",
    "                        gamma_opt = gam\n",
    "                        degree_opt = deg\n",
    "                        kernel_opt = ker\n",
    "    return fin_acc, acc_opt, C_opt, gamma_opt, degree_opt, kernel_opt\n"
   ]
  },
  {
   "cell_type": "markdown",
   "metadata": {},
   "source": [
    "Without Feature engineering:"
   ]
  },
  {
   "cell_type": "code",
   "execution_count": 13,
   "metadata": {},
   "outputs": [],
   "source": [
    "# Original dataset\n",
    "\n",
    "tr_dataset = train_data\n",
    "test_dataset = test_data"
   ]
  },
  {
   "cell_type": "code",
   "execution_count": 14,
   "metadata": {
    "scrolled": true
   },
   "outputs": [],
   "source": [
    "# Train the model\n",
    "\n",
    "C1 = [0.01, 0.5, 1,10] # List of C values for grid search\n",
    "kernel1 = ['linear', 'rbf', 'poly', 'sigmoid'] # List of kernel values for grid search\n",
    "gamma1 = ['scale', 'auto'] # List of gamma values for grid search\n",
    "degree1 = [1,2,3,4] # List of degree values for grid search\n",
    "\n",
    "# Do K fold cross-validation\n",
    "fin_acc1, acc_opt1, C_opt1, gamma_opt1, degree_opt1, kernel_opt1 = k_fold_CV_SVM(tr_dataset, \n",
    "                                                                       C1, kernel1, \n",
    "                                                                       gamma1, degree1, \n",
    "                                                                       k=10, drop = 0)"
   ]
  },
  {
   "cell_type": "code",
   "execution_count": 15,
   "metadata": {},
   "outputs": [
    {
     "name": "stdout",
     "output_type": "stream",
     "text": [
      "The optimum model validation accuracy = 92.77777777777777% and the optimum hyperparameters are as follows: \n",
      " \n",
      "      Kernel = linear,\n",
      "      C = 0.01,\n",
      "      Gamma = scale,\n",
      "      Degree = 1\n"
     ]
    }
   ],
   "source": [
    "# Print the optimum parameters\n",
    "\n",
    "print(f\"\"\"The optimum model validation accuracy = {acc_opt1*100}% and the optimum hyperparameters are as follows: \\n \n",
    "      Kernel = {kernel_opt1},\n",
    "      C = {C_opt1},\n",
    "      Gamma = {gamma_opt1},\n",
    "      Degree = {degree_opt1}\"\"\")"
   ]
  },
  {
   "cell_type": "code",
   "execution_count": 16,
   "metadata": {},
   "outputs": [
    {
     "name": "stdout",
     "output_type": "stream",
     "text": [
      "Performance metrics on training data:\n",
      "Accuracy of Optimum model before feature engineering: 92.93478260869566% \n",
      "F1 score = 0.9422222222222223\n"
     ]
    },
    {
     "data": {
      "image/png": "[encoded data removed]",
      "text/plain": [
       "<Figure size 432x288 with 2 Axes>"
      ]
     },
     "metadata": {
      "needs_background": "light"
     },
     "output_type": "display_data"
    }
   ],
   "source": [
    "# Performance metrics on training set \n",
    "\n",
    "opt_model = svm.SVC(C=C_opt1, gamma=gamma_opt1, kernel = kernel_opt1, degree=degree_opt1) # Call optimum model\n",
    "\n",
    "true_classes = train_data['Classes'] # Labels\n",
    "accuracy, pred_classes = evaluate(opt_model, tr_dataset, tr_dataset) # Evaluate the model\n",
    "\n",
    "print('Performance metrics on training data:')\n",
    "print(f\"Accuracy of Optimum model before feature engineering: {accuracy*100}% \") # Final accuracy\n",
    "print(f'F1 score = {f1_score(true_classes, pred_classes)}') # F1 score\n",
    "conf_mat = confusion_matrix(true_classes, pred_classes) # Confusion matrix \n",
    "heat_map = seaborn.heatmap(conf_mat, annot=True) # Heatmap"
   ]
  },
  {
   "cell_type": "code",
   "execution_count": 17,
   "metadata": {},
   "outputs": [
    {
     "name": "stdout",
     "output_type": "stream",
     "text": [
      "Accuracy of Optimum model on test set before feature engineering: 88.33333333333333% \n",
      "F1 score = 0.8372093023255814\n"
     ]
    },
    {
     "data": {
      "image/png": "[encoded data removed]",
      "text/plain": [
       "<Figure size 432x288 with 2 Axes>"
      ]
     },
     "metadata": {
      "needs_background": "light"
     },
     "output_type": "display_data"
    }
   ],
   "source": [
    "# Evaluate the model \n",
    "\n",
    "opt_model = svm.SVC(C=C_opt1, gamma=gamma_opt1, kernel = kernel_opt1, degree=degree_opt1) # Call optimum model\n",
    "\n",
    "true_classes = test_data['Classes'] # Labels\n",
    "accuracy, pred_classes = evaluate(opt_model, tr_dataset, test_dataset) # Evaluate the model\n",
    "\n",
    "print(f\"Accuracy of Optimum model on test set before feature engineering: {accuracy*100}% \") # Final accuracy\n",
    "print(f'F1 score = {f1_score(true_classes, pred_classes)}') # F1 score\n",
    "conf_mat = confusion_matrix(true_classes, pred_classes) # Confusion matrix \n",
    "heat_map = seaborn.heatmap(conf_mat, annot=True) # Heatmap"
   ]
  },
  {
   "cell_type": "markdown",
   "metadata": {},
   "source": [
    "With Normalization:"
   ]
  },
  {
   "cell_type": "code",
   "execution_count": 18,
   "metadata": {},
   "outputs": [],
   "source": [
    "# With Normalization of datasets\n",
    "\n",
    "tr_dataset, test_dataset = Normalize(train_data, test_data) "
   ]
  },
  {
   "cell_type": "code",
   "execution_count": 19,
   "metadata": {
    "scrolled": true
   },
   "outputs": [],
   "source": [
    "# Train the model\n",
    "\n",
    "C1 = [0.01, 0.5, 1,10] # List of C values for grid search\n",
    "kernel1 = ['linear', 'rbf', 'poly', 'sigmoid'] # List of kernel values for grid search\n",
    "gamma1 = ['scale', 'auto'] # List of gamma values for grid search\n",
    "degree1 = [1,2,3,4] # List of degree values for grid search\n",
    "\n",
    "# Do K fold cross-validation\n",
    "fin_acc1, acc_opt1, C_opt1, gamma_opt1, degree_opt1, kernel_opt1 = k_fold_CV_SVM(tr_dataset, \n",
    "                                                                       C1, kernel1, \n",
    "                                                                       gamma1, degree1, \n",
    "                                                                       k=10, drop = 0)"
   ]
  },
  {
   "cell_type": "code",
   "execution_count": 20,
   "metadata": {},
   "outputs": [
    {
     "name": "stdout",
     "output_type": "stream",
     "text": [
      "The optimum model validation accuracy = 92.77777777777777% and the optimum hyperparameters are as follows: \n",
      " \n",
      "      Kernel = linear,\n",
      "      C = 0.5,\n",
      "      Gamma = scale,\n",
      "      Degree = 1\n"
     ]
    }
   ],
   "source": [
    "# Print the optimum parameters\n",
    "\n",
    "print(f\"\"\"The optimum model validation accuracy = {acc_opt1*100}% and the optimum hyperparameters are as follows: \\n \n",
    "      Kernel = {kernel_opt1},\n",
    "      C = {C_opt1},\n",
    "      Gamma = {gamma_opt1},\n",
    "      Degree = {degree_opt1}\"\"\")"
   ]
  },
  {
   "cell_type": "code",
   "execution_count": 21,
   "metadata": {},
   "outputs": [
    {
     "name": "stdout",
     "output_type": "stream",
     "text": [
      "Performance metrics on training data:\n",
      "Accuracy of Optimum model before feature engineering: 94.02173913043478% \n",
      "F1 score = 0.9511111111111111\n"
     ]
    },
    {
     "data": {
      "image/png": "[encoded data removed]",
      "text/plain": [
       "<Figure size 432x288 with 2 Axes>"
      ]
     },
     "metadata": {
      "needs_background": "light"
     },
     "output_type": "display_data"
    }
   ],
   "source": [
    "# Performance metrics on training set \n",
    "\n",
    "opt_model = svm.SVC(C=C_opt1, gamma=gamma_opt1, kernel = kernel_opt1, degree=degree_opt1) # Call optimum model\n",
    "\n",
    "true_classes = train_data['Classes'] # Labels\n",
    "accuracy, pred_classes = evaluate(opt_model, tr_dataset, tr_dataset) # Evaluate the model\n",
    "\n",
    "print('Performance metrics on training data:')\n",
    "print(f\"Accuracy of Optimum model before feature engineering: {accuracy*100}% \") # Final accuracy\n",
    "print(f'F1 score = {f1_score(true_classes, pred_classes)}') # F1 score\n",
    "conf_mat = confusion_matrix(true_classes, pred_classes) # Confusion matrix \n",
    "heat_map = seaborn.heatmap(conf_mat, annot=True) # Heatmap"
   ]
  },
  {
   "cell_type": "code",
   "execution_count": 22,
   "metadata": {},
   "outputs": [
    {
     "name": "stdout",
     "output_type": "stream",
     "text": [
      "Accuracy of Optimum model on test set before feature engineering: 90.0% \n",
      "F1 score = 0.8636363636363636\n"
     ]
    },
    {
     "data": {
      "image/png": "[encoded data removed]",
      "text/plain": [
       "<Figure size 432x288 with 2 Axes>"
      ]
     },
     "metadata": {
      "needs_background": "light"
     },
     "output_type": "display_data"
    }
   ],
   "source": [
    "# Evaluate the model \n",
    "\n",
    "opt_model = svm.SVC(C=C_opt1, gamma=gamma_opt1, kernel = kernel_opt1, degree=degree_opt1) # Call optimum model\n",
    "\n",
    "true_classes = test_data['Classes'] # Labels\n",
    "accuracy, pred_classes = evaluate(opt_model, tr_dataset, test_dataset) # Evaluate the model\n",
    "\n",
    "print(f\"Accuracy of Optimum model on test set before feature engineering: {accuracy*100}% \") # Final accuracy\n",
    "print(f'F1 score = {f1_score(true_classes, pred_classes)}') # F1 score\n",
    "conf_mat = confusion_matrix(true_classes, pred_classes) # Confusion matrix \n",
    "heat_map = seaborn.heatmap(conf_mat, annot=True) # Heatmap"
   ]
  },
  {
   "cell_type": "markdown",
   "metadata": {},
   "source": [
    "With feature engineering:"
   ]
  },
  {
   "cell_type": "code",
   "execution_count": 23,
   "metadata": {},
   "outputs": [],
   "source": [
    "# featured data\n",
    "\n",
    "tr_dataset = new_tr_data\n",
    "test_dataset = new_test_data"
   ]
  },
  {
   "cell_type": "code",
   "execution_count": 24,
   "metadata": {},
   "outputs": [],
   "source": [
    "# Train the model\n",
    "\n",
    "C1 = [0.01, 0.5, 1,10] # List of C values for grid search\n",
    "kernel1 = ['linear', 'rbf', 'poly', 'sigmoid'] # List of kernel values for grid search\n",
    "gamma1 = ['scale', 'auto', 0.001, 0.1, 1, 2, 10] # List of gamma values for grid search\n",
    "degree1 = [1,2,3,4] # List of degree values for grid search\n",
    "\n",
    "# # Do K fold cross-validation\n",
    "fin_acc2, acc_opt2, C_opt2, gamma_opt2, degree_opt2, kernel_opt2 = k_fold_CV_SVM(tr_dataset, \n",
    "                                                                       C1, kernel1, \n",
    "                                                                       gamma1, degree1, \n",
    "                                                                       k=10, drop = 3)"
   ]
  },
  {
   "cell_type": "code",
   "execution_count": 25,
   "metadata": {},
   "outputs": [
    {
     "name": "stdout",
     "output_type": "stream",
     "text": [
      "The optimum model validation accuracy = 90.0% and the optimum hyperparameters are as follows: \n",
      " \n",
      "      Kernel = poly,\n",
      "      C = 0.5,\n",
      "      Gamma = 0.1,\n",
      "      Degree = 1\n"
     ]
    }
   ],
   "source": [
    "# Print the optimum parameters\n",
    "\n",
    "print(f\"\"\"The optimum model validation accuracy = {acc_opt2*100}% and the optimum hyperparameters are as follows: \\n \n",
    "      Kernel = {kernel_opt2},\n",
    "      C = {C_opt2},\n",
    "      Gamma = {gamma_opt2},\n",
    "      Degree = {degree_opt2}\"\"\")"
   ]
  },
  {
   "cell_type": "code",
   "execution_count": 26,
   "metadata": {},
   "outputs": [
    {
     "name": "stdout",
     "output_type": "stream",
     "text": [
      "Performance metrics on training data:\n",
      "Accuracy of Optimum model after feature engineering: 92.81767955801105% \n",
      "F1 score = 0.9427312775330398\n"
     ]
    },
    {
     "data": {
      "image/png": "[encoded data removed]",
      "text/plain": [
       "<Figure size 432x288 with 2 Axes>"
      ]
     },
     "metadata": {
      "needs_background": "light"
     },
     "output_type": "display_data"
    }
   ],
   "source": [
    "# Performance metrics on training set \n",
    "\n",
    "opt_model = svm.SVC(C=C_opt2, gamma=gamma_opt2, kernel = kernel_opt2, degree=degree_opt2) # Call optimum model\n",
    "\n",
    "true_classes = train_data['Classes'][:-3] # Labels\n",
    "accuracy, pred_classes = evaluate(opt_model, tr_dataset, tr_dataset) # Evaluate the model\n",
    "\n",
    "print('Performance metrics on training data:')\n",
    "print(f\"Accuracy of Optimum model after feature engineering: {accuracy*100}% \") # Final accuracy\n",
    "print(f'F1 score = {f1_score(true_classes, pred_classes)}') # F1 score\n",
    "conf_mat = confusion_matrix(true_classes, pred_classes) # Confusion matrix \n",
    "heat_map = seaborn.heatmap(conf_mat, annot=True) # Heatmap"
   ]
  },
  {
   "cell_type": "code",
   "execution_count": 27,
   "metadata": {},
   "outputs": [
    {
     "name": "stdout",
     "output_type": "stream",
     "text": [
      "Accuracy of Optimum model on test set after feature engineering: 91.66666666666666% \n",
      "F1 score = 0.888888888888889\n"
     ]
    },
    {
     "data": {
      "image/png": "[encoded data removed]",
      "text/plain": [
       "<Figure size 432x288 with 2 Axes>"
      ]
     },
     "metadata": {
      "needs_background": "light"
     },
     "output_type": "display_data"
    }
   ],
   "source": [
    "# Evaluate the model \n",
    "\n",
    "opt_model = svm.SVC(C=C_opt2, gamma=gamma_opt2, kernel = kernel_opt2, degree=degree_opt2) # Call optimum model\n",
    "\n",
    "true_classes = test_data['Classes'] # Labels\n",
    "accuracy, pred_classes = evaluate(opt_model, tr_dataset, test_dataset) # Evaluate the model\n",
    "\n",
    "print(f\"Accuracy of Optimum model on test set after feature engineering: {accuracy*100}% \") # Final accuracy\n",
    "print(f'F1 score = {f1_score(true_classes, pred_classes)}') # F1 score\n",
    "conf_mat = confusion_matrix(true_classes, pred_classes) # Confusion matrix \n",
    "heat_map = seaborn.heatmap(conf_mat, annot=True) # Heatmap"
   ]
  },
  {
   "cell_type": "markdown",
   "metadata": {},
   "source": [
    "# Logistic Regression:"
   ]
  },
  {
   "cell_type": "code",
   "execution_count": 28,
   "metadata": {},
   "outputs": [],
   "source": [
    "# K-fold cross validation for Logistic Regression\n",
    "\n",
    "def k_CV_LogR(dataset, C, solvers, penalties, k=10, drop=3):\n",
    "    \"\"\"\n",
    "\n",
    "    :param dataset: Training dataset (Dataframe)\n",
    "    :param C: List of C values to be evaluated (list of int)\n",
    "    :param solvers: List of solvers to be evaluated (list of str)\n",
    "    :param penalties: List of penalties to be evaluated (list of str)\n",
    "    :param k: num of folds (int, default=10)\n",
    "    :param drop: Number of samples to be dropped, equal to n_days in add_n_dayavg (default=3)\n",
    "    :return: fin_acc, acc_opt, c_opt, sol_opt, pen_opt i.e, optimum hyperparameters\n",
    "    \"\"\"\n",
    "    n = round(len(dataset) / k) # Length of each batch\n",
    "    fin_acc = [] # Save final accuracies after each search\n",
    "    acc_opt = 0 # Initialize optimum accuracy\n",
    "    c_opt = 0 # Initialize optimum C\n",
    "    sol_opt = solvers[0] # Initialize optimum solver\n",
    "    pen_opt = penalties[0] # Initialize optimum penalty\n",
    "    \n",
    "    # Start search\n",
    "    for c in C:\n",
    "        for sol in solvers:\n",
    "            for pen in penalties:\n",
    "\n",
    "                model = LogisticRegression(C=c, solver=sol, penalty=pen) # Initialize model\n",
    "                accuracy = [] # Accuracy per fold\n",
    "                # Split the data to train and val datasets\n",
    "                for i in range(0, k):\n",
    "                    val_dataset = dataset.iloc[i * n:(i + 1) * n]\n",
    "                    tr_dataset = dataset.drop(range(i * n, (i + 1) * n))\n",
    "                    if i != 0:\n",
    "                        tr_dataset = tr_dataset.drop(range(i * n - drop, i * n))\n",
    "\n",
    "                    acc, pred_classes = evaluate(model, tr_dataset, val_dataset) # Train and evaluate the model\n",
    "                    accuracy.append(acc)\n",
    "                fin_acc.append(np.mean(accuracy))\n",
    "                # Update optimum parameters if accuracy improves\n",
    "                if np.mean(accuracy) > acc_opt:\n",
    "                    acc_opt = np.mean(accuracy)\n",
    "                    c_opt = c\n",
    "                    sol_opt = sol\n",
    "                    pen_opt = pen\n",
    "\n",
    "    return fin_acc, acc_opt, c_opt, sol_opt, pen_opt"
   ]
  },
  {
   "cell_type": "markdown",
   "metadata": {},
   "source": [
    "Without Feature engineering:"
   ]
  },
  {
   "cell_type": "code",
   "execution_count": 29,
   "metadata": {},
   "outputs": [],
   "source": [
    "# Original data\n",
    "\n",
    "tr_dataset = train_data\n",
    "test_dataset = test_data"
   ]
  },
  {
   "cell_type": "code",
   "execution_count": 30,
   "metadata": {},
   "outputs": [],
   "source": [
    "# Train the model\n",
    "\n",
    "C1 = [1,2,3,4] # List of C values for grid search\n",
    "solvers1 = ['liblinear'] # Since 'liblinear' is good for small dataset\n",
    "pens = ['l1','l2'] # List of penalties for grid search\n",
    "fin_acc, acc_opt, c_opt, sol_opt, pen_opt = k_CV_LogR(tr_dataset, C=C1, solvers=solvers1,\n",
    "                                                      penalties=pens, k=10, drop = 3)"
   ]
  },
  {
   "cell_type": "code",
   "execution_count": 31,
   "metadata": {},
   "outputs": [
    {
     "name": "stdout",
     "output_type": "stream",
     "text": [
      "The optimum model accuracy before feature engineering = 92.22222222222223 % and the optimum hyperparameters are as follows:\n",
      "    \n",
      "      Optimum C = 2,\n",
      "      Optimum Solver = liblinear,\n",
      "      Optimum Penalty = l1\n"
     ]
    }
   ],
   "source": [
    "# Print the optimum parameters\n",
    "\n",
    "print(f\"\"\"The optimum model accuracy before feature engineering = {acc_opt*100} % and the optimum hyperparameters are as follows:\n",
    "    \n",
    "      Optimum C = {c_opt},\n",
    "      Optimum Solver = {sol_opt},\n",
    "      Optimum Penalty = {pen_opt}\"\"\")"
   ]
  },
  {
   "cell_type": "code",
   "execution_count": 32,
   "metadata": {},
   "outputs": [
    {
     "name": "stdout",
     "output_type": "stream",
     "text": [
      "Performance metrics on training data:\n",
      "Accuracy of Optimum model before feature engineering: 93.47826086956522% \n",
      "F1 score = 0.9478260869565217\n"
     ]
    },
    {
     "data": {
      "image/png": "[encoded data removed]",
      "text/plain": [
       "<Figure size 432x288 with 2 Axes>"
      ]
     },
     "metadata": {
      "needs_background": "light"
     },
     "output_type": "display_data"
    }
   ],
   "source": [
    "# Performance metrics on training set \n",
    "\n",
    "clf = LogisticRegression(C=c_opt, solver=sol_opt, penalty=pen_opt) # Call optimum model\n",
    "\n",
    "true_classes = train_data['Classes'] # Labels\n",
    "accuracy, pred_classes = evaluate(clf, tr_dataset, tr_dataset) # Evaluate the model\n",
    "\n",
    "print('Performance metrics on training data:')\n",
    "print(f\"Accuracy of Optimum model before feature engineering: {accuracy*100}% \") # Final accuracy\n",
    "print(f'F1 score = {f1_score(true_classes, pred_classes)}') # F1 score\n",
    "conf_mat = confusion_matrix(true_classes, pred_classes) # Confusion matrix \n",
    "heat_map = seaborn.heatmap(conf_mat, annot=True) # Heatmap"
   ]
  },
  {
   "cell_type": "code",
   "execution_count": 33,
   "metadata": {},
   "outputs": [
    {
     "name": "stdout",
     "output_type": "stream",
     "text": [
      "Accuracy of Optimum model on test set before feature engineering: 90.0% \n",
      "F1 score = 0.8695652173913043\n"
     ]
    },
    {
     "data": {
      "image/png": "[encoded data removed]",
      "text/plain": [
       "<Figure size 432x288 with 2 Axes>"
      ]
     },
     "metadata": {
      "needs_background": "light"
     },
     "output_type": "display_data"
    }
   ],
   "source": [
    "# Evaluate the model \n",
    "\n",
    "clf = LogisticRegression(C=c_opt, solver=sol_opt, penalty=pen_opt) # Call optimum model\n",
    "\n",
    "true_classes = test_data['Classes'] # Labels\n",
    "accuracy, pred_classes = evaluate(clf, tr_dataset, test_dataset) # Evaluate the model\n",
    "\n",
    "print(f\"Accuracy of Optimum model on test set before feature engineering: {accuracy*100}% \") # Final accuracy\n",
    "print(f'F1 score = {f1_score(true_classes, pred_classes)}') # F1 score\n",
    "conf_mat = confusion_matrix(true_classes, pred_classes) # Confusion matrix \n",
    "heat_map = seaborn.heatmap(conf_mat, annot=True) # Heatmap"
   ]
  },
  {
   "cell_type": "markdown",
   "metadata": {},
   "source": [
    "With Normalization:"
   ]
  },
  {
   "cell_type": "code",
   "execution_count": 34,
   "metadata": {},
   "outputs": [],
   "source": [
    "# With Normalization of datasets\n",
    "\n",
    "tr_dataset, test_dataset = Normalize(train_data, test_data) "
   ]
  },
  {
   "cell_type": "code",
   "execution_count": 35,
   "metadata": {},
   "outputs": [],
   "source": [
    "# Train the model\n",
    "\n",
    "C1 = [1,2,3,4] # List of C values for grid search\n",
    "solvers1 = ['liblinear'] # Since 'liblinear' is good for small dataset\n",
    "pens = ['l1','l2'] # List of penalties for grid search\n",
    "fin_acc, acc_opt, c_opt, sol_opt, pen_opt = k_CV_LogR(tr_dataset, C=C1, solvers=solvers1,\n",
    "                                                      penalties=pens, k=10, drop = 3)"
   ]
  },
  {
   "cell_type": "code",
   "execution_count": 36,
   "metadata": {},
   "outputs": [
    {
     "name": "stdout",
     "output_type": "stream",
     "text": [
      "The optimum model accuracy before feature engineering = 92.22222222222223 % and the optimum hyperparameters are as follows:\n",
      "    \n",
      "      Optimum C = 2,\n",
      "      Optimum Solver = liblinear,\n",
      "      Optimum Penalty = l2\n"
     ]
    }
   ],
   "source": [
    "# Print the optimum parameters\n",
    "\n",
    "print(f\"\"\"The optimum model accuracy before feature engineering = {acc_opt*100} % and the optimum hyperparameters are as follows:\n",
    "    \n",
    "      Optimum C = {c_opt},\n",
    "      Optimum Solver = {sol_opt},\n",
    "      Optimum Penalty = {pen_opt}\"\"\")"
   ]
  },
  {
   "cell_type": "code",
   "execution_count": 37,
   "metadata": {},
   "outputs": [
    {
     "name": "stdout",
     "output_type": "stream",
     "text": [
      "Performance metrics on training data:\n",
      "Accuracy of Optimum model before feature engineering: 94.02173913043478% \n",
      "F1 score = 0.9511111111111111\n"
     ]
    },
    {
     "data": {
      "image/png": "[encoded data removed]",
      "text/plain": [
       "<Figure size 432x288 with 2 Axes>"
      ]
     },
     "metadata": {
      "needs_background": "light"
     },
     "output_type": "display_data"
    }
   ],
   "source": [
    "# Performance metrics on training set \n",
    "\n",
    "clf = LogisticRegression(C=c_opt, solver=sol_opt, penalty=pen_opt) # Call optimum model\n",
    "\n",
    "true_classes = train_data['Classes'] # Labels\n",
    "accuracy, pred_classes = evaluate(clf, tr_dataset, tr_dataset) # Evaluate the model\n",
    "\n",
    "print('Performance metrics on training data:')\n",
    "print(f\"Accuracy of Optimum model before feature engineering: {accuracy*100}% \") # Final accuracy\n",
    "print(f'F1 score = {f1_score(true_classes, pred_classes)}') # F1 score\n",
    "conf_mat = confusion_matrix(true_classes, pred_classes) # Confusion matrix \n",
    "heat_map = seaborn.heatmap(conf_mat, annot=True) # Heatmap"
   ]
  },
  {
   "cell_type": "code",
   "execution_count": 38,
   "metadata": {},
   "outputs": [
    {
     "name": "stdout",
     "output_type": "stream",
     "text": [
      "Accuracy of Optimum model on test set before feature engineering: 91.66666666666666% \n",
      "F1 score = 0.8837209302325583\n"
     ]
    },
    {
     "data": {
      "image/png": "[encoded data removed]",
      "text/plain": [
       "<Figure size 432x288 with 2 Axes>"
      ]
     },
     "metadata": {
      "needs_background": "light"
     },
     "output_type": "display_data"
    }
   ],
   "source": [
    "# Evaluate the model \n",
    "\n",
    "clf = LogisticRegression(C=c_opt, solver=sol_opt, penalty=pen_opt) # Call optimum model\n",
    "\n",
    "true_classes = test_data['Classes'] # Labels\n",
    "accuracy, pred_classes = evaluate(clf, tr_dataset, test_dataset) # Evaluate the model\n",
    "\n",
    "print(f\"Accuracy of Optimum model on test set before feature engineering: {accuracy*100}% \") # Final accuracy\n",
    "print(f'F1 score = {f1_score(true_classes, pred_classes)}') # F1 score\n",
    "conf_mat = confusion_matrix(true_classes, pred_classes) # Confusion matrix \n",
    "heat_map = seaborn.heatmap(conf_mat, annot=True) # Heatmap"
   ]
  },
  {
   "cell_type": "markdown",
   "metadata": {},
   "source": [
    "With Feature engineering:"
   ]
  },
  {
   "cell_type": "code",
   "execution_count": 39,
   "metadata": {},
   "outputs": [],
   "source": [
    "# Featured data\n",
    "\n",
    "tr_dataset = new_tr_data\n",
    "test_dataset = new_test_data"
   ]
  },
  {
   "cell_type": "code",
   "execution_count": 40,
   "metadata": {},
   "outputs": [],
   "source": [
    "# Train the model \n",
    "\n",
    "C1 = [1,2,3,4]  # List of C values for grid search\n",
    "solvers1 = ['liblinear'] # Since 'liblinear' is good for small dataset\n",
    "pens = ['l1','l2'] # List of penalties for grid search\n",
    "fin_acc, acc_opt, c_opt, sol_opt, pen_opt = k_CV_LogR(tr_dataset, C=C1, solvers=solvers1,\n",
    "                                                      penalties=pens, k=10, drop = 3)"
   ]
  },
  {
   "cell_type": "code",
   "execution_count": 41,
   "metadata": {},
   "outputs": [
    {
     "name": "stdout",
     "output_type": "stream",
     "text": [
      "The optimum model accuracy after feature engineering = 90.0 % and the optimum hyperparameters are as follows:\n",
      "    \n",
      "      Optimum C = 4,\n",
      "      Optimum Solver = liblinear,\n",
      "      Optimum Penalty = l1\n"
     ]
    }
   ],
   "source": [
    "# Print the optimum parameters\n",
    "\n",
    "print(f\"\"\"The optimum model accuracy after feature engineering = {acc_opt*100} % and the optimum hyperparameters are as follows:\n",
    "    \n",
    "      Optimum C = {c_opt},\n",
    "      Optimum Solver = {sol_opt},\n",
    "      Optimum Penalty = {pen_opt}\"\"\")"
   ]
  },
  {
   "cell_type": "code",
   "execution_count": 42,
   "metadata": {},
   "outputs": [
    {
     "name": "stdout",
     "output_type": "stream",
     "text": [
      "Performance metrics on training data:\n",
      "Accuracy of Optimum model after feature engineering: 93.37016574585635% \n",
      "F1 score = 0.9469026548672567\n"
     ]
    },
    {
     "data": {
      "image/png": "[encoded data removed]",
      "text/plain": [
       "<Figure size 432x288 with 2 Axes>"
      ]
     },
     "metadata": {
      "needs_background": "light"
     },
     "output_type": "display_data"
    }
   ],
   "source": [
    "# Performance metrics on training set \n",
    "\n",
    "clf = LogisticRegression(C=c_opt, solver=sol_opt, penalty=pen_opt) # Call optimum model\n",
    "\n",
    "true_classes = train_data['Classes'][:-3] # Labels\n",
    "accuracy, pred_classes = evaluate(clf, tr_dataset, tr_dataset) # Evaluate the model\n",
    "\n",
    "print('Performance metrics on training data:')\n",
    "print(f\"Accuracy of Optimum model after feature engineering: {accuracy*100}% \") # Final accuracy\n",
    "print(f'F1 score = {f1_score(true_classes, pred_classes)}') # F1 score\n",
    "conf_mat = confusion_matrix(true_classes, pred_classes) # Confusion matrix \n",
    "heat_map = seaborn.heatmap(conf_mat, annot=True) # Heatmap"
   ]
  },
  {
   "cell_type": "code",
   "execution_count": 43,
   "metadata": {},
   "outputs": [
    {
     "name": "stdout",
     "output_type": "stream",
     "text": [
      "Accuracy of Optimum model on test set after feature engineering: 91.66666666666666% \n",
      "F1 score = 0.888888888888889\n"
     ]
    },
    {
     "data": {
      "image/png": "[encoded data removed]",
      "text/plain": [
       "<Figure size 432x288 with 2 Axes>"
      ]
     },
     "metadata": {
      "needs_background": "light"
     },
     "output_type": "display_data"
    }
   ],
   "source": [
    "# Evaluate the model \n",
    "\n",
    "clf = LogisticRegression(C=c_opt, solver=sol_opt, penalty=pen_opt) # Call optimum model\n",
    "\n",
    "true_classes = test_data['Classes'] # Labels\n",
    "accuracy, pred_classes = evaluate(clf, tr_dataset, test_dataset) # Evaluate the model\n",
    "\n",
    "print(f\"Accuracy of Optimum model on test set after feature engineering: {accuracy*100}% \") # Final accuracy\n",
    "print(f'F1 score = {f1_score(true_classes, pred_classes)}') # F1 score\n",
    "conf_mat = confusion_matrix(true_classes, pred_classes) # Confusion matrix \n",
    "heat_map = seaborn.heatmap(conf_mat, annot=True) # Heatmap"
   ]
  },
  {
   "cell_type": "markdown",
   "metadata": {},
   "source": [
    "# Random Forest:"
   ]
  },
  {
   "cell_type": "code",
   "execution_count": 44,
   "metadata": {},
   "outputs": [],
   "source": [
    "# K-fold cross validation for Random forest\n",
    "\n",
    "def k_CV_RF(dataset, n_estimators, max_depths, random_state, k=10, drop=3):\n",
    "    \"\"\"\n",
    "\n",
    "    :param dataset: Training dataset (Dataframe)\n",
    "    :param max_depth: List of max_depth values to be evaluated (list of int)\n",
    "    :param random_state: List of random_states to be evaluated (list of int)\n",
    "    :param k: num of folds (int, default=10)\n",
    "    :param drop: Number of samples to be dropped, equal to n_days in add_n_dayavg (default=3)\n",
    "    :return: fin_acc, acc_opt, d_opt, rs_opt ,i.e, optimum hyperparameters\n",
    "    \"\"\"\n",
    "    n = round(len(dataset) / k) # Length of each fold \n",
    "    fin_acc = [] # Final accuracies per parameter \n",
    "    acc_opt=0 # Final optimum accuracy\n",
    "    n_est_opt = 0 # Optimum n_estimators\n",
    "    d_opt = 0 # Optimum max_depths\n",
    "    rs_opt = 0 # Optimum random_state\n",
    "    \n",
    "    # Start search\n",
    "    for n_estimator in n_estimators:\n",
    "        for d in max_depths:\n",
    "            for r in random_state:\n",
    "\n",
    "                model = RandomForestClassifier(n_estimators=n_estimator,\n",
    "                                               max_depth=d, random_state=r) # Initialize model\n",
    "                accuracy = [] # Accuracy per fold\n",
    "                # Split the data to train and val dataset\n",
    "                for i in range(0, k):\n",
    "                    val_dataset = dataset.iloc[i * n:(i + 1) * n]\n",
    "                    tr_dataset = dataset.drop(range(i * n, (i + 1) * n))\n",
    "                    if i != 0:\n",
    "                        tr_dataset = tr_dataset.drop(range(i * n - drop, i * n))\n",
    "\n",
    "                    acc, pred_classes = evaluate(model, tr_dataset, val_dataset) # Train and evaluate the model\n",
    "                    accuracy.append(acc)\n",
    "                fin_acc.append(np.mean(accuracy))\n",
    "                # Update optimum parameters if accuracy improves\n",
    "                if np.mean(accuracy) > acc_opt:\n",
    "                    acc_opt = np.mean(accuracy)\n",
    "                    n_est_opt = n_estimator\n",
    "                    d_opt = d\n",
    "                    rs_opt = r\n",
    "    return fin_acc, acc_opt, n_est_opt, d_opt, rs_opt"
   ]
  },
  {
   "cell_type": "markdown",
   "metadata": {},
   "source": [
    "Without Feature engineering:"
   ]
  },
  {
   "cell_type": "code",
   "execution_count": 45,
   "metadata": {},
   "outputs": [],
   "source": [
    "# Original data\n",
    "\n",
    "tr_dataset = train_data\n",
    "test_dataset = test_data"
   ]
  },
  {
   "cell_type": "code",
   "execution_count": 46,
   "metadata": {},
   "outputs": [],
   "source": [
    "# Train the model\n",
    "\n",
    "n_estimators = [10, 50, 100] # List of num of estimators values for CV\n",
    "max_depths = [None, 1, 2] # List of max_depth values for CV\n",
    "random_state = [1] # Random state values\n",
    "\n",
    "fin_acc, acc_opt, n_est_opt, d_opt, rs_opt = k_CV_RF(tr_dataset, n_estimators=n_estimators,\n",
    "                                                     max_depths=max_depths, random_state=random_state,\n",
    "                                                     k=10, drop = 3)"
   ]
  },
  {
   "cell_type": "code",
   "execution_count": 47,
   "metadata": {},
   "outputs": [
    {
     "name": "stdout",
     "output_type": "stream",
     "text": [
      "The optimum model accuracy before feature engineering = 91.11111111111111 % and the optimum hyperparameters are as follows:\n",
      "    \n",
      "      Optimum n_estimators = 10,\n",
      "      Optimum Max depth = None,\n",
      "      Optimum Random state = 1\n"
     ]
    }
   ],
   "source": [
    "# Print the optimum parameters\n",
    "\n",
    "print(f\"\"\"The optimum model accuracy before feature engineering = {acc_opt*100} % and the optimum hyperparameters are as follows:\n",
    "    \n",
    "      Optimum n_estimators = {n_est_opt},\n",
    "      Optimum Max depth = {d_opt},\n",
    "      Optimum Random state = {rs_opt}\"\"\")"
   ]
  },
  {
   "cell_type": "code",
   "execution_count": 48,
   "metadata": {},
   "outputs": [
    {
     "name": "stdout",
     "output_type": "stream",
     "text": [
      "Performance metrics on training data:\n",
      "Accuracy of Optimum model before feature engineering: 100.0% \n",
      "F1 score = 1.0\n"
     ]
    },
    {
     "data": {
      "image/png": "[encoded data removed]",
      "text/plain": [
       "<Figure size 432x288 with 2 Axes>"
      ]
     },
     "metadata": {
      "needs_background": "light"
     },
     "output_type": "display_data"
    }
   ],
   "source": [
    "# Performance metrics on training set \n",
    "\n",
    "clf =  RandomForestClassifier(n_estimators=n_est_opt ,max_depth=d_opt, random_state=rs_opt) # Call optimum model\n",
    "\n",
    "true_classes = train_data['Classes'] # Labels\n",
    "accuracy, pred_classes = evaluate(clf, tr_dataset, tr_dataset) # Evaluate the model\n",
    "\n",
    "print('Performance metrics on training data:')\n",
    "print(f\"Accuracy of Optimum model before feature engineering: {accuracy*100}% \") # Final accuracy\n",
    "print(f'F1 score = {f1_score(true_classes, pred_classes)}') # F1 score\n",
    "conf_mat = confusion_matrix(true_classes, pred_classes) # Confusion matrix \n",
    "heat_map = seaborn.heatmap(conf_mat, annot=True) # Heatmap"
   ]
  },
  {
   "cell_type": "code",
   "execution_count": 49,
   "metadata": {},
   "outputs": [
    {
     "name": "stdout",
     "output_type": "stream",
     "text": [
      "Accuracy of Optimum model on test set before feature engineering: 91.66666666666666% \n",
      "F1 score = 0.8936170212765957\n"
     ]
    },
    {
     "data": {
      "image/png": "[encoded data removed]",
      "text/plain": [
       "<Figure size 432x288 with 2 Axes>"
      ]
     },
     "metadata": {
      "needs_background": "light"
     },
     "output_type": "display_data"
    }
   ],
   "source": [
    "# Evaluate the model\n",
    "\n",
    "clf = RandomForestClassifier(n_estimators=n_est_opt ,max_depth=d_opt, random_state=rs_opt) # Call optimum model\n",
    "true_classes = test_data['Classes'] # Labels\n",
    "accuracy, pred_classes = evaluate(clf, tr_dataset, test_dataset) # Evaluate the model\n",
    "\n",
    "print(f\"Accuracy of Optimum model on test set before feature engineering: {accuracy*100}% \") # Final accuracy\n",
    "print(f'F1 score = {f1_score(true_classes, pred_classes)}') # F1 score\n",
    "conf_mat = confusion_matrix(true_classes, pred_classes) # Confusion matrix \n",
    "heat_map = seaborn.heatmap(conf_mat, annot=True) # Heatmap"
   ]
  },
  {
   "cell_type": "markdown",
   "metadata": {},
   "source": [
    "With Normalization:"
   ]
  },
  {
   "cell_type": "code",
   "execution_count": 50,
   "metadata": {},
   "outputs": [],
   "source": [
    "# With Normalization of datasets\n",
    "\n",
    "tr_dataset, test_dataset = Normalize(train_data, test_data) "
   ]
  },
  {
   "cell_type": "code",
   "execution_count": 51,
   "metadata": {},
   "outputs": [],
   "source": [
    "# Train the model\n",
    "\n",
    "n_estimators = [10, 50, 100] # List of num of estimators values for CV\n",
    "max_depths = [None, 1, 2] # List of max_depth values for CV\n",
    "random_state = [1] # Random state values\n",
    "\n",
    "fin_acc, acc_opt, n_est_opt, d_opt, rs_opt = k_CV_RF(tr_dataset, n_estimators=n_estimators,\n",
    "                                                     max_depths=max_depths, random_state=random_state,\n",
    "                                                     k=10, drop = 3)"
   ]
  },
  {
   "cell_type": "code",
   "execution_count": 52,
   "metadata": {},
   "outputs": [
    {
     "name": "stdout",
     "output_type": "stream",
     "text": [
      "The optimum model accuracy before feature engineering = 91.11111111111111 % and the optimum hyperparameters are as follows:\n",
      "    \n",
      "      Optimum n_estimators = 10,\n",
      "      Optimum Max depth = None,\n",
      "      Optimum Random state = 1\n"
     ]
    }
   ],
   "source": [
    "# Print the optimum parameters\n",
    "\n",
    "print(f\"\"\"The optimum model accuracy before feature engineering = {acc_opt*100} % and the optimum hyperparameters are as follows:\n",
    "    \n",
    "      Optimum n_estimators = {n_est_opt},\n",
    "      Optimum Max depth = {d_opt},\n",
    "      Optimum Random state = {rs_opt}\"\"\")"
   ]
  },
  {
   "cell_type": "code",
   "execution_count": 53,
   "metadata": {},
   "outputs": [
    {
     "name": "stdout",
     "output_type": "stream",
     "text": [
      "Performance metrics on training data:\n",
      "Accuracy of Optimum model before feature engineering: 100.0% \n",
      "F1 score = 1.0\n"
     ]
    },
    {
     "data": {
      "image/png": "[encoded data removed]",
      "text/plain": [
       "<Figure size 432x288 with 2 Axes>"
      ]
     },
     "metadata": {
      "needs_background": "light"
     },
     "output_type": "display_data"
    }
   ],
   "source": [
    "# Performance metrics on training set \n",
    "\n",
    "clf =  RandomForestClassifier(n_estimators=n_est_opt ,max_depth=d_opt, random_state=rs_opt) # Call optimum model\n",
    "\n",
    "true_classes = train_data['Classes'] # Labels\n",
    "accuracy, pred_classes = evaluate(clf, tr_dataset, tr_dataset) # Evaluate the model\n",
    "\n",
    "print('Performance metrics on training data:')\n",
    "print(f\"Accuracy of Optimum model before feature engineering: {accuracy*100}% \") # Final accuracy\n",
    "print(f'F1 score = {f1_score(true_classes, pred_classes)}') # F1 score\n",
    "conf_mat = confusion_matrix(true_classes, pred_classes) # Confusion matrix \n",
    "heat_map = seaborn.heatmap(conf_mat, annot=True) # Heatmap"
   ]
  },
  {
   "cell_type": "code",
   "execution_count": 54,
   "metadata": {},
   "outputs": [
    {
     "name": "stdout",
     "output_type": "stream",
     "text": [
      "Accuracy of Optimum model on test set before feature engineering: 91.66666666666666% \n",
      "F1 score = 0.8936170212765957\n"
     ]
    },
    {
     "data": {
      "image/png": "[encoded data removed]",
      "text/plain": [
       "<Figure size 432x288 with 2 Axes>"
      ]
     },
     "metadata": {
      "needs_background": "light"
     },
     "output_type": "display_data"
    }
   ],
   "source": [
    "# Evaluate the model\n",
    "\n",
    "clf = RandomForestClassifier(n_estimators=n_est_opt ,max_depth=d_opt, random_state=rs_opt) # Call optimum model\n",
    "true_classes = test_data['Classes'] # Labels\n",
    "accuracy, pred_classes = evaluate(clf, tr_dataset, test_dataset) # Evaluate the model\n",
    "\n",
    "print(f\"Accuracy of Optimum model on test set before feature engineering: {accuracy*100}% \") # Final accuracy\n",
    "print(f'F1 score = {f1_score(true_classes, pred_classes)}') # F1 score\n",
    "conf_mat = confusion_matrix(true_classes, pred_classes) # Confusion matrix \n",
    "heat_map = seaborn.heatmap(conf_mat, annot=True) # Heatmap"
   ]
  },
  {
   "cell_type": "markdown",
   "metadata": {},
   "source": [
    "With Feature engineering:"
   ]
  },
  {
   "cell_type": "code",
   "execution_count": 55,
   "metadata": {},
   "outputs": [],
   "source": [
    "# Featured data\n",
    "\n",
    "tr_dataset = new_tr_data\n",
    "test_dataset = new_test_data"
   ]
  },
  {
   "cell_type": "code",
   "execution_count": 56,
   "metadata": {},
   "outputs": [],
   "source": [
    "# Train the model\n",
    "\n",
    "n_estimators = [10, 50, 100] # List of num of estimators values for CV\n",
    "max_depths = [None, 1, 2] # List of max_depth values for CV\n",
    "random_state = [1] # Random state values\n",
    "\n",
    "fin_acc, acc_opt, n_est_opt, d_opt, rs_opt = k_CV_RF(tr_dataset, n_estimators=n_estimators,\n",
    "                                                     max_depths=max_depths, random_state=random_state,\n",
    "                                                     k=10, drop = 3)"
   ]
  },
  {
   "cell_type": "code",
   "execution_count": 57,
   "metadata": {},
   "outputs": [
    {
     "name": "stdout",
     "output_type": "stream",
     "text": [
      "The optimum model accuracy after feature engineering = 90.55555555555556 % and the optimum hyperparameters are as follows:\n",
      "    \n",
      "      Optimum n_estimators = 10,\n",
      "      Optimum Max depth = 1,\n",
      "      Optimum Random state = 1\n"
     ]
    }
   ],
   "source": [
    "# Print the optimum parameters\n",
    "\n",
    "print(f\"\"\"The optimum model accuracy after feature engineering = {acc_opt*100} % and the optimum hyperparameters are as follows:\n",
    "    \n",
    "      Optimum n_estimators = {n_est_opt},\n",
    "      Optimum Max depth = {d_opt},\n",
    "      Optimum Random state = {rs_opt}\"\"\")"
   ]
  },
  {
   "cell_type": "code",
   "execution_count": 58,
   "metadata": {},
   "outputs": [
    {
     "name": "stdout",
     "output_type": "stream",
     "text": [
      "Performance metrics on training data:\n",
      "Accuracy of Optimum model after feature engineering: 92.26519337016575% \n",
      "F1 score = 0.9375\n"
     ]
    },
    {
     "data": {
      "image/png": "[encoded data removed]",
      "text/plain": [
       "<Figure size 432x288 with 2 Axes>"
      ]
     },
     "metadata": {
      "needs_background": "light"
     },
     "output_type": "display_data"
    }
   ],
   "source": [
    "# Performance metrics on training set \n",
    "\n",
    "clf = RandomForestClassifier(n_estimators=n_est_opt ,max_depth=d_opt, random_state=rs_opt) # Call optimum model\n",
    "\n",
    "true_classes = train_data['Classes'][:-3] # Labels\n",
    "accuracy, pred_classes = evaluate(clf, tr_dataset, tr_dataset) # Evaluate the model\n",
    "\n",
    "print('Performance metrics on training data:')\n",
    "print(f\"Accuracy of Optimum model after feature engineering: {accuracy*100}% \") # Final accuracy\n",
    "print(f'F1 score = {f1_score(true_classes, pred_classes)}') # F1 score\n",
    "conf_mat = confusion_matrix(true_classes, pred_classes) # Confusion matrix \n",
    "heat_map = seaborn.heatmap(conf_mat, annot=True) # Heatmap"
   ]
  },
  {
   "cell_type": "code",
   "execution_count": 59,
   "metadata": {},
   "outputs": [
    {
     "name": "stdout",
     "output_type": "stream",
     "text": [
      "Accuracy of Optimum model on test set after feature engineering: 88.33333333333333% \n",
      "F1 score = 0.8444444444444444\n"
     ]
    },
    {
     "data": {
      "image/png": "[encoded data removed]",
      "text/plain": [
       "<Figure size 432x288 with 2 Axes>"
      ]
     },
     "metadata": {
      "needs_background": "light"
     },
     "output_type": "display_data"
    }
   ],
   "source": [
    "# Evaluate the model\n",
    "\n",
    "clf = RandomForestClassifier(n_estimators=n_est_opt ,max_depth=d_opt, random_state=rs_opt) # Call optimum model\n",
    "\n",
    "true_classes = test_data['Classes'] # Labels\n",
    "accuracy, pred_classes = evaluate(clf, tr_dataset, test_dataset) # Evaluate the model\n",
    "\n",
    "print(f\"Accuracy of Optimum model on test set after feature engineering: {accuracy*100}% \") # Final accuracy\n",
    "print(f'F1 score = {f1_score(true_classes, pred_classes)}') # F1 score\n",
    "conf_mat = confusion_matrix(true_classes, pred_classes) # Confusion matrix \n",
    "heat_map = seaborn.heatmap(conf_mat, annot=True) # Heatmap"
   ]
  },
  {
   "cell_type": "markdown",
   "metadata": {},
   "source": [
    "# KNN:"
   ]
  },
  {
   "cell_type": "code",
   "execution_count": 60,
   "metadata": {},
   "outputs": [],
   "source": [
    "# K-fold cross validation for KNN\n",
    "\n",
    "def k_CV_KNN(dataset, n_neighbors, k=10, drop=3):\n",
    "    \"\"\"\n",
    "\n",
    "    :param dataset: Training dataset (Dataframe)\n",
    "    :param n_neighbors: List of C values to be evaluated (list of int)\n",
    "    :param k: num of folds (int, default=10)\n",
    "    :param drop: Number of samples to be dropped, equal to n_days in add_n_dayavg (default=3)\n",
    "    :return: fin_acc, acc_opt, n_opt ,i.e, optimum hyperparameters\n",
    "    \"\"\"\n",
    "    n = round(len(dataset) / k) # Length of each batch\n",
    "    fin_acc = [] # Save final accuracies after each search\n",
    "    acc_opt = 0 # Initialize optimum accuracy\n",
    "    n_opt = n_neighbors[0] # Initialize optimum n_neighbors\n",
    "    \n",
    "    # Start search\n",
    "    for n in n_neighbors:\n",
    "\n",
    "        model = KNeighborsClassifier(n_neighbors=n) # Initialize model\n",
    "        accuracy = [] # Accuracy per fold\n",
    "        # Split the data to train and val datasets\n",
    "        for i in range(0, k):\n",
    "            val_dataset = dataset.iloc[i * n:(i + 1) * n]\n",
    "            tr_dataset = dataset.drop(range(i * n, (i + 1) * n))\n",
    "            if i != 0:\n",
    "                tr_dataset = tr_dataset.drop(range(i * n - drop, i * n))\n",
    "\n",
    "            acc, pred_classes = evaluate(model, tr_dataset, val_dataset) # Train and evaluate the modelss\n",
    "            accuracy.append(acc)\n",
    "        fin_acc.append(np.mean(accuracy))\n",
    "        # Update optimum parameters if accuracy improves\n",
    "        if np.mean(accuracy) > acc_opt:\n",
    "            acc_opt = np.mean(accuracy)\n",
    "            n_opt = n\n",
    "\n",
    "    return fin_acc, acc_opt, n_opt\n"
   ]
  },
  {
   "cell_type": "markdown",
   "metadata": {},
   "source": [
    "Without Feature engineering:"
   ]
  },
  {
   "cell_type": "code",
   "execution_count": 61,
   "metadata": {},
   "outputs": [],
   "source": [
    "# Original dataset\n",
    "\n",
    "tr_dataset = train_data\n",
    "test_dataset = test_data"
   ]
  },
  {
   "cell_type": "code",
   "execution_count": 62,
   "metadata": {},
   "outputs": [],
   "source": [
    "# Train the model\n",
    "\n",
    "n_neighbors = range(3,11) # List of n_neighbor values for CV\n",
    "knn_finacc, knn_acc_opt, n_opt1 = k_CV_KNN(train_data, n_neighbors, k=10, drop = 3)"
   ]
  },
  {
   "cell_type": "code",
   "execution_count": 63,
   "metadata": {},
   "outputs": [
    {
     "name": "stdout",
     "output_type": "stream",
     "text": [
      "The optimum model accuracy before feature engineering = 90.00000000000001 % and the optimum hyperparameters are as follows:\n",
      "    \n",
      "      Optimum n_neighbors = 5\n"
     ]
    }
   ],
   "source": [
    "# Print the optimum parameters\n",
    "\n",
    "print(f\"\"\"The optimum model accuracy before feature engineering = {knn_acc_opt*100} % and the optimum hyperparameters are as follows:\n",
    "    \n",
    "      Optimum n_neighbors = {n_opt1}\"\"\")"
   ]
  },
  {
   "cell_type": "code",
   "execution_count": 64,
   "metadata": {},
   "outputs": [
    {
     "name": "stdout",
     "output_type": "stream",
     "text": [
      "Performance metrics on training data:\n",
      "Accuracy of Optimum model before feature engineering: 89.13043478260869% \n",
      "F1 score = 0.9137931034482759\n"
     ]
    },
    {
     "data": {
      "image/png": "[encoded data removed]",
      "text/plain": [
       "<Figure size 432x288 with 2 Axes>"
      ]
     },
     "metadata": {
      "needs_background": "light"
     },
     "output_type": "display_data"
    }
   ],
   "source": [
    "# Performance metrics on training set \n",
    "\n",
    "clf = KNeighborsClassifier(n_neighbors=n_opt1) # Call optimum model\n",
    "\n",
    "true_classes = train_data['Classes'] # Labels\n",
    "accuracy, pred_classes = evaluate(clf, tr_dataset, tr_dataset) # Evaluate the model\n",
    "\n",
    "print('Performance metrics on training data:')\n",
    "print(f\"Accuracy of Optimum model before feature engineering: {accuracy*100}% \") # Final accuracy\n",
    "print(f'F1 score = {f1_score(true_classes, pred_classes)}') # F1 score\n",
    "conf_mat = confusion_matrix(true_classes, pred_classes) # Confusion matrix \n",
    "heat_map = seaborn.heatmap(conf_mat, annot=True) # Heatmap"
   ]
  },
  {
   "cell_type": "code",
   "execution_count": 65,
   "metadata": {},
   "outputs": [
    {
     "name": "stdout",
     "output_type": "stream",
     "text": [
      "Accuracy of Optimum model on test set before feature engineering: 85.0% \n",
      "F1 score = 0.8085106382978724\n"
     ]
    },
    {
     "data": {
      "image/png": "[encoded data removed]",
      "text/plain": [
       "<Figure size 432x288 with 2 Axes>"
      ]
     },
     "metadata": {
      "needs_background": "light"
     },
     "output_type": "display_data"
    }
   ],
   "source": [
    "# Evaluate the model \n",
    "\n",
    "clf = KNeighborsClassifier(n_neighbors=n_opt1) # Call optimum model\n",
    "\n",
    "true_classes = test_data['Classes'] # Labels\n",
    "accuracy, pred_classes = evaluate(clf, tr_dataset, test_dataset) # Evaluate the model\n",
    "\n",
    "print(f\"Accuracy of Optimum model on test set before feature engineering: {accuracy*100}% \") # Final accuracy\n",
    "print(f'F1 score = {f1_score(true_classes, pred_classes)}') # F1 score\n",
    "conf_mat = confusion_matrix(true_classes, pred_classes) # Confusion matrix \n",
    "heat_map = seaborn.heatmap(conf_mat, annot=True) # Heatmap"
   ]
  },
  {
   "cell_type": "markdown",
   "metadata": {},
   "source": [
    "With Normalization:"
   ]
  },
  {
   "cell_type": "code",
   "execution_count": 66,
   "metadata": {},
   "outputs": [],
   "source": [
    "# With Normalization of datasets\n",
    "\n",
    "tr_dataset, test_dataset = Normalize(train_data, test_data) "
   ]
  },
  {
   "cell_type": "code",
   "execution_count": 67,
   "metadata": {},
   "outputs": [],
   "source": [
    "# Train the model\n",
    "\n",
    "n_neighbors = range(3,11) # List of n_neighbor values for CV\n",
    "knn_finacc, knn_acc_opt, n_opt1 = k_CV_KNN(train_data, n_neighbors, k=10, drop = 3)"
   ]
  },
  {
   "cell_type": "code",
   "execution_count": 68,
   "metadata": {},
   "outputs": [
    {
     "name": "stdout",
     "output_type": "stream",
     "text": [
      "The optimum model accuracy before feature engineering = 90.00000000000001 % and the optimum hyperparameters are as follows:\n",
      "    \n",
      "      Optimum n_neighbors = 5\n"
     ]
    }
   ],
   "source": [
    "# Print the optimum parameters\n",
    "\n",
    "print(f\"\"\"The optimum model accuracy before feature engineering = {knn_acc_opt*100} % and the optimum hyperparameters are as follows:\n",
    "    \n",
    "      Optimum n_neighbors = {n_opt1}\"\"\")"
   ]
  },
  {
   "cell_type": "code",
   "execution_count": 69,
   "metadata": {},
   "outputs": [
    {
     "name": "stdout",
     "output_type": "stream",
     "text": [
      "Performance metrics on training data:\n",
      "Accuracy of Optimum model before feature engineering: 90.76086956521739% \n",
      "F1 score = 0.9270386266094419\n"
     ]
    },
    {
     "data": {
      "image/png": "[encoded data removed]",
      "text/plain": [
       "<Figure size 432x288 with 2 Axes>"
      ]
     },
     "metadata": {
      "needs_background": "light"
     },
     "output_type": "display_data"
    }
   ],
   "source": [
    "# Performance metrics on training set \n",
    "\n",
    "clf = KNeighborsClassifier(n_neighbors=n_opt1) # Call optimum model\n",
    "\n",
    "true_classes = train_data['Classes'] # Labels\n",
    "accuracy, pred_classes = evaluate(clf, tr_dataset, tr_dataset) # Evaluate the model\n",
    "\n",
    "print('Performance metrics on training data:')\n",
    "print(f\"Accuracy of Optimum model before feature engineering: {accuracy*100}% \") # Final accuracy\n",
    "print(f'F1 score = {f1_score(true_classes, pred_classes)}') # F1 score\n",
    "conf_mat = confusion_matrix(true_classes, pred_classes) # Confusion matrix \n",
    "heat_map = seaborn.heatmap(conf_mat, annot=True) # Heatmap"
   ]
  },
  {
   "cell_type": "code",
   "execution_count": 70,
   "metadata": {},
   "outputs": [
    {
     "name": "stdout",
     "output_type": "stream",
     "text": [
      "Accuracy of Optimum model on test set before feature engineering: 86.66666666666667% \n",
      "F1 score = 0.8181818181818182\n"
     ]
    },
    {
     "data": {
      "image/png": "[encoded data removed]",
      "text/plain": [
       "<Figure size 432x288 with 2 Axes>"
      ]
     },
     "metadata": {
      "needs_background": "light"
     },
     "output_type": "display_data"
    }
   ],
   "source": [
    "# Evaluate the model \n",
    "\n",
    "clf = KNeighborsClassifier(n_neighbors=n_opt1) # Call optimum model\n",
    "\n",
    "true_classes = test_data['Classes'] # Labels\n",
    "accuracy, pred_classes = evaluate(clf, tr_dataset, test_dataset) # Evaluate the model\n",
    "\n",
    "print(f\"Accuracy of Optimum model on test set before feature engineering: {accuracy*100}% \") # Final accuracy\n",
    "print(f'F1 score = {f1_score(true_classes, pred_classes)}') # F1 score\n",
    "conf_mat = confusion_matrix(true_classes, pred_classes) # Confusion matrix \n",
    "heat_map = seaborn.heatmap(conf_mat, annot=True) # Heatmap"
   ]
  },
  {
   "cell_type": "markdown",
   "metadata": {},
   "source": [
    "With Feature engineering:"
   ]
  },
  {
   "cell_type": "code",
   "execution_count": 71,
   "metadata": {},
   "outputs": [],
   "source": [
    "# Featured data\n",
    "\n",
    "tr_dataset = new_tr_data\n",
    "test_dataset = new_test_data"
   ]
  },
  {
   "cell_type": "code",
   "execution_count": 72,
   "metadata": {},
   "outputs": [],
   "source": [
    "# Train the model\n",
    "\n",
    "n_neighbors = range(3,11) # List of n_neighbor values for CV\n",
    "knn_finacc, knn_acc_opt, n_opt1 = k_CV_KNN(tr_dataset, n_neighbors, k=10, drop = 3)"
   ]
  },
  {
   "cell_type": "code",
   "execution_count": 73,
   "metadata": {},
   "outputs": [
    {
     "name": "stdout",
     "output_type": "stream",
     "text": [
      "The optimum model accuracy after feature engineering = 90.0 % and the optimum hyperparameters are as follows:\n",
      "    \n",
      "      Optimum n_neighbors = 6\n"
     ]
    }
   ],
   "source": [
    "# Print the optimum parameters\n",
    "\n",
    "print(f\"\"\"The optimum model accuracy after feature engineering = {knn_acc_opt*100} % and the optimum hyperparameters are as follows:\n",
    "    \n",
    "      Optimum n_neighbors = {n_opt1}\"\"\")"
   ]
  },
  {
   "cell_type": "code",
   "execution_count": 74,
   "metadata": {},
   "outputs": [
    {
     "name": "stdout",
     "output_type": "stream",
     "text": [
      "Performance metrics on training data:\n",
      "Accuracy of Optimum model after feature engineering: 89.50276243093923% \n",
      "F1 score = 0.919831223628692\n"
     ]
    },
    {
     "data": {
      "image/png": "[encoded data removed]",
      "text/plain": [
       "<Figure size 432x288 with 2 Axes>"
      ]
     },
     "metadata": {
      "needs_background": "light"
     },
     "output_type": "display_data"
    }
   ],
   "source": [
    "# Performance metrics on training set \n",
    "\n",
    "clf = KNeighborsClassifier(n_neighbors=n_opt1) # Call optimum model\n",
    "\n",
    "true_classes = train_data['Classes'][:-3] # Labels\n",
    "accuracy, pred_classes = evaluate(clf, tr_dataset, tr_dataset) # Evaluate the model\n",
    "\n",
    "print('Performance metrics on training data:')\n",
    "print(f\"Accuracy of Optimum model after feature engineering: {accuracy*100}% \") # Final accuracy\n",
    "print(f'F1 score = {f1_score(true_classes, pred_classes)}') # F1 score\n",
    "conf_mat = confusion_matrix(true_classes, pred_classes) # Confusion matrix \n",
    "heat_map = seaborn.heatmap(conf_mat, annot=True) # Heatmapre"
   ]
  },
  {
   "cell_type": "code",
   "execution_count": 75,
   "metadata": {},
   "outputs": [
    {
     "name": "stdout",
     "output_type": "stream",
     "text": [
      "Accuracy of Optimum model on test set after feature engineering: 80.0% \n",
      "F1 score = 0.7692307692307693\n"
     ]
    },
    {
     "data": {
      "image/png": "[encoded data removed]",
      "text/plain": [
       "<Figure size 432x288 with 2 Axes>"
      ]
     },
     "metadata": {
      "needs_background": "light"
     },
     "output_type": "display_data"
    }
   ],
   "source": [
    "# Evaluate the model \n",
    "\n",
    "clf = KNeighborsClassifier(n_neighbors=n_opt1) # Call optimum model\n",
    "true_classes = test_data['Classes'] # Labels\n",
    "accuracy, pred_classes = evaluate(clf, tr_dataset, test_dataset) # Evaluate the model\n",
    "\n",
    "print(f\"Accuracy of Optimum model on test set after feature engineering: {accuracy*100}% \") # Final accuracy\n",
    "print(f'F1 score = {f1_score(true_classes, pred_classes)}') # F1 score\n",
    "conf_mat = confusion_matrix(true_classes, pred_classes) # Confusion matrix \n",
    "heat_map = seaborn.heatmap(conf_mat, annot=True) # Heatmap"
   ]
  },
  {
   "cell_type": "markdown",
   "metadata": {},
   "source": [
    "# MLP:"
   ]
  },
  {
   "cell_type": "markdown",
   "metadata": {},
   "source": [
    "Without feature engineering and normalization:"
   ]
  },
  {
   "cell_type": "code",
   "execution_count": 76,
   "metadata": {},
   "outputs": [],
   "source": [
    "# K-fold cross validation for KNN\n",
    "\n",
    "def k_CV_MLP(dataset, n_hidden_layers, activations, solvers, lr, k=10, drop=3):\n",
    "    \"\"\"\n",
    "\n",
    "    :param dataset: Training dataset (Dataframe)\n",
    "    :param n_neighbors: List of C values to be evaluated (list of int)\n",
    "    :param k: num of folds (int, default=10)\n",
    "    :param drop: Number of samples to be dropped, equal to n_days in add_n_dayavg (default=3)\n",
    "    :return: fin_acc, acc_opt, n_opt ,i.e, optimum hyperparameters\n",
    "    \"\"\"\n",
    "    n = round(len(dataset) / k) # Length of each batch\n",
    "    fin_acc = [] # Save final accuracies after each search\n",
    "    acc_opt = 0 # Initialize optimum accuracy\n",
    "    n_opt = n_hidden_layers[0] # Initialize optimum n_hidden_layers\n",
    "    act_opt = activations[0] # Initialize optimum activations\n",
    "    sol_opt = solvers[0] # Initialize optimum solver\n",
    "    lr_opt = lr[0] # Initialize optimum learning rate\n",
    "    \n",
    "    # Start search\n",
    "    for nl in n_hidden_layers:\n",
    "        for act in activations:\n",
    "            for solver in solvers:\n",
    "                for l in lr:\n",
    "\n",
    "                    model = MLPClassifier(random_state=1,hidden_layer_sizes=nl, \n",
    "                                          activation=act, solver=solver,\n",
    "                                          learning_rate_init=l) # Initialize model\n",
    "                    accuracy = [] # Accuracy per fold\n",
    "                    # Split the data to train and val datasets\n",
    "                    for i in range(0, k):\n",
    "                        val_dataset = dataset.iloc[i * n:(i + 1) * n]\n",
    "                        tr_dataset = dataset.drop(range(i * n, (i + 1) * n))\n",
    "                        if i != 0:\n",
    "                            tr_dataset = tr_dataset.drop(range(i * n - drop, i * n))\n",
    "\n",
    "                        acc, pred_classes = evaluate(model, tr_dataset, val_dataset) # Train and evaluate the modelss\n",
    "                        accuracy.append(acc)\n",
    "                    fin_acc.append(np.mean(accuracy))\n",
    "                    # Update optimum parameters if accuracy improves\n",
    "                    if np.mean(accuracy) > acc_opt:\n",
    "                        acc_opt = np.mean(accuracy)\n",
    "                        n_opt = nl\n",
    "                        act_opt = act\n",
    "                        sol_opt = solver\n",
    "                        lr_opt = l\n",
    "    return fin_acc, acc_opt, n_opt, act_opt, sol_opt, lr_opt"
   ]
  },
  {
   "cell_type": "code",
   "execution_count": 77,
   "metadata": {},
   "outputs": [],
   "source": [
    "# Ignoring warnings as they are lengthening the code PDF\n",
    "\n",
    "import warnings\n",
    "warnings.filterwarnings(\"ignore\")"
   ]
  },
  {
   "cell_type": "code",
   "execution_count": 78,
   "metadata": {},
   "outputs": [],
   "source": [
    "# Original dataset\n",
    "\n",
    "tr_dataset = train_data\n",
    "test_dataset = test_data"
   ]
  },
  {
   "cell_type": "code",
   "execution_count": 79,
   "metadata": {},
   "outputs": [],
   "source": [
    "# Train the model\n",
    "\n",
    "n_hidden_layers = [5, 10, 20, 50, 100] # List of n_neighbor values for CV\n",
    "activations = ['relu', 'tanh', 'logistic']\n",
    "solvers = ['adam', 'sgd']\n",
    "lr = [1e-1, 1e-3]\n",
    "fin_acc, acc_opt, n_opt, act_opt, sol_opt, lr_opt = k_CV_MLP(tr_dataset, n_hidden_layers,\n",
    "                                                             activations, solvers, lr, k=10, drop=3)"
   ]
  },
  {
   "cell_type": "code",
   "execution_count": 80,
   "metadata": {},
   "outputs": [
    {
     "name": "stdout",
     "output_type": "stream",
     "text": [
      "The optimum model accuracy before feature engineering = 92.22222222222223 % and the optimum hyperparameters are as follows:\n",
      "    \n",
      "      Optimum n_hidden_layers = 20,\n",
      "      Optimum activation = relu,\n",
      "      Optimum solver/optimizer = adam\n",
      "      Optimum LR = 0.1\n"
     ]
    }
   ],
   "source": [
    "# Print the optimum parameters\n",
    "\n",
    "print(f\"\"\"The optimum model accuracy before feature engineering = {acc_opt*100} % and the optimum hyperparameters are as follows:\n",
    "    \n",
    "      Optimum n_hidden_layers = {n_opt},\n",
    "      Optimum activation = {act_opt},\n",
    "      Optimum solver/optimizer = {sol_opt}\n",
    "      Optimum LR = {lr_opt}\"\"\")"
   ]
  },
  {
   "cell_type": "code",
   "execution_count": 81,
   "metadata": {},
   "outputs": [
    {
     "name": "stdout",
     "output_type": "stream",
     "text": [
      "Performance metrics on training data:\n",
      "Accuracy of Optimum model before feature engineering: 95.1086956521739% \n",
      "F1 score = 0.961038961038961\n"
     ]
    },
    {
     "data": {
      "image/png": "[encoded data removed]",
      "text/plain": [
       "<Figure size 432x288 with 2 Axes>"
      ]
     },
     "metadata": {
      "needs_background": "light"
     },
     "output_type": "display_data"
    }
   ],
   "source": [
    "# Performance metrics on training set \n",
    "\n",
    "clf =  MLPClassifier(random_state=1,hidden_layer_sizes=n_opt, \n",
    "                    activation=act_opt, solver=sol_opt,learning_rate_init=lr_opt) # Call optimum model\n",
    "\n",
    "true_classes = train_data['Classes'] # Labels\n",
    "accuracy, pred_classes = evaluate(clf, tr_dataset, tr_dataset) # Evaluate the model\n",
    "\n",
    "print('Performance metrics on training data:')\n",
    "print(f\"Accuracy of Optimum model before feature engineering: {accuracy*100}% \") # Final accuracy\n",
    "print(f'F1 score = {f1_score(true_classes, pred_classes)}') # F1 score\n",
    "conf_mat = confusion_matrix(true_classes, pred_classes) # Confusion matrix \n",
    "heat_map = seaborn.heatmap(conf_mat, annot=True) # Heatmap"
   ]
  },
  {
   "cell_type": "code",
   "execution_count": 82,
   "metadata": {},
   "outputs": [
    {
     "name": "stdout",
     "output_type": "stream",
     "text": [
      "Accuracy of Optimum model on test set before feature engineering: 88.33333333333333% \n",
      "F1 score = 0.851063829787234\n"
     ]
    },
    {
     "data": {
      "image/png": "[encoded data removed]",
      "text/plain": [
       "<Figure size 432x288 with 2 Axes>"
      ]
     },
     "metadata": {
      "needs_background": "light"
     },
     "output_type": "display_data"
    }
   ],
   "source": [
    "# Evaluate the model \n",
    "\n",
    "clf =  MLPClassifier(random_state=1,hidden_layer_sizes=n_opt, \n",
    "                    activation=act_opt, solver=sol_opt,learning_rate_init=lr_opt) # Call optimum model\n",
    "\n",
    "true_classes = test_data['Classes'] # Labels\n",
    "accuracy, pred_classes = evaluate(clf, tr_dataset, test_dataset) # Evaluate the model\n",
    "\n",
    "print(f\"Accuracy of Optimum model on test set before feature engineering: {accuracy*100}% \") # Final accuracy\n",
    "print(f'F1 score = {f1_score(true_classes, pred_classes)}') # F1 score\n",
    "conf_mat = confusion_matrix(true_classes, pred_classes) # Confusion matrix \n",
    "heat_map = seaborn.heatmap(conf_mat, annot=True) # Heatmap"
   ]
  },
  {
   "cell_type": "markdown",
   "metadata": {},
   "source": [
    "With normalization:"
   ]
  },
  {
   "cell_type": "code",
   "execution_count": 83,
   "metadata": {},
   "outputs": [],
   "source": [
    "# Normalized datasets\n",
    "\n",
    "tr_dataset, test_dataset = Normalize(train_data, test_data)"
   ]
  },
  {
   "cell_type": "code",
   "execution_count": 84,
   "metadata": {},
   "outputs": [],
   "source": [
    "# Train the model\n",
    "\n",
    "n_hidden_layers = [5, 10, 20, 50, 100] # List of n_neighbor values for CV\n",
    "activations = ['relu', 'tanh', 'logistic']\n",
    "solvers = ['adam', 'sgd']\n",
    "lr = [1e-1, 1e-3]\n",
    "fin_acc, acc_opt, n_opt, act_opt, sol_opt, lr_opt = k_CV_MLP(tr_dataset, n_hidden_layers,\n",
    "                                                             activations, solvers, lr, k=10, drop=3)"
   ]
  },
  {
   "cell_type": "code",
   "execution_count": 85,
   "metadata": {},
   "outputs": [
    {
     "name": "stdout",
     "output_type": "stream",
     "text": [
      "The optimum model accuracy before feature engineering = 92.77777777777777 % and the optimum hyperparameters are as follows:\n",
      "    \n",
      "      Optimum n_hidden_layers = 50,\n",
      "      Optimum activation = tanh,\n",
      "      Optimum solver/optimizer = adam\n",
      "      Optimum LR = 0.1\n"
     ]
    }
   ],
   "source": [
    "# Print the optimum parameters\n",
    "\n",
    "print(f\"\"\"The optimum model accuracy before feature engineering = {acc_opt*100} % and the optimum hyperparameters are as follows:\n",
    "    \n",
    "      Optimum n_hidden_layers = {n_opt},\n",
    "      Optimum activation = {act_opt},\n",
    "      Optimum solver/optimizer = {sol_opt}\n",
    "      Optimum LR = {lr_opt}\"\"\")"
   ]
  },
  {
   "cell_type": "code",
   "execution_count": 86,
   "metadata": {},
   "outputs": [
    {
     "name": "stdout",
     "output_type": "stream",
     "text": [
      "Performance metrics on training data:\n",
      "Accuracy of Optimum model before feature engineering: 100.0% \n",
      "F1 score = 1.0\n"
     ]
    },
    {
     "data": {
      "image/png": "[encoded data removed]",
      "text/plain": [
       "<Figure size 432x288 with 2 Axes>"
      ]
     },
     "metadata": {
      "needs_background": "light"
     },
     "output_type": "display_data"
    }
   ],
   "source": [
    "# Performance metrics on training set \n",
    "\n",
    "clf =  MLPClassifier(random_state=1,hidden_layer_sizes=n_opt, \n",
    "                    activation=act_opt, solver=sol_opt,learning_rate_init=lr_opt) # Call optimum model\n",
    "\n",
    "true_classes = train_data['Classes'] # Labels\n",
    "accuracy, pred_classes = evaluate(clf, tr_dataset, tr_dataset) # Evaluate the model\n",
    "\n",
    "print('Performance metrics on training data:')\n",
    "print(f\"Accuracy of Optimum model before feature engineering: {accuracy*100}% \") # Final accuracy\n",
    "print(f'F1 score = {f1_score(true_classes, pred_classes)}') # F1 score\n",
    "conf_mat = confusion_matrix(true_classes, pred_classes) # Confusion matrix \n",
    "heat_map = seaborn.heatmap(conf_mat, annot=True) # Heatmap"
   ]
  },
  {
   "cell_type": "code",
   "execution_count": 87,
   "metadata": {},
   "outputs": [
    {
     "name": "stdout",
     "output_type": "stream",
     "text": [
      "Accuracy of Optimum model on test set before feature engineering: 90.0% \n",
      "F1 score = 0.8749999999999999\n"
     ]
    },
    {
     "data": {
      "image/png": "[encoded data removed]",
      "text/plain": [
       "<Figure size 432x288 with 2 Axes>"
      ]
     },
     "metadata": {
      "needs_background": "light"
     },
     "output_type": "display_data"
    }
   ],
   "source": [
    "# Evaluate the model \n",
    "\n",
    "clf =  MLPClassifier(random_state=1,hidden_layer_sizes=n_opt, \n",
    "                    activation=act_opt, solver=sol_opt,learning_rate_init=lr_opt) # Call optimum model\n",
    "\n",
    "true_classes = test_data['Classes'] # Labels\n",
    "accuracy, pred_classes = evaluate(clf, tr_dataset, test_dataset) # Evaluate the model\n",
    "\n",
    "print(f\"Accuracy of Optimum model on test set before feature engineering: {accuracy*100}% \") # Final accuracy\n",
    "print(f'F1 score = {f1_score(true_classes, pred_classes)}') # F1 score\n",
    "conf_mat = confusion_matrix(true_classes, pred_classes) # Confusion matrix \n",
    "heat_map = seaborn.heatmap(conf_mat, annot=True) # Heatmap"
   ]
  },
  {
   "cell_type": "markdown",
   "metadata": {},
   "source": [
    "With Feature engineering:"
   ]
  },
  {
   "cell_type": "code",
   "execution_count": 88,
   "metadata": {},
   "outputs": [],
   "source": [
    "# Featured data\n",
    "\n",
    "tr_dataset = new_tr_data\n",
    "test_dataset = new_test_data"
   ]
  },
  {
   "cell_type": "code",
   "execution_count": 89,
   "metadata": {},
   "outputs": [],
   "source": [
    "# Train the model\n",
    "\n",
    "n_hidden_layers = [5, 10, 20, 50, 100] # List of n_neighbor values for CV\n",
    "activations = ['relu', 'tanh', 'logistic']\n",
    "solvers = ['adam', 'sgd']\n",
    "lr = [1e-1, 1e-3]\n",
    "fin_acc, acc_opt, n_opt, act_opt, sol_opt, lr_opt = k_CV_MLP(tr_dataset, n_hidden_layers,\n",
    "                                                             activations, solvers, lr, k=10, drop=3)"
   ]
  },
  {
   "cell_type": "code",
   "execution_count": 90,
   "metadata": {},
   "outputs": [
    {
     "name": "stdout",
     "output_type": "stream",
     "text": [
      "The optimum model accuracy after feature engineering = 89.44444444444444 % and the optimum hyperparameters are as follows:\n",
      "    \n",
      "      Optimum n_hidden_layers = 10,\n",
      "      Optimum activation = relu,\n",
      "      Optimum solver/optimizer = sgd\n",
      "      Optimum LR = 0.001\n"
     ]
    }
   ],
   "source": [
    "# Print the optimum parameters\n",
    "\n",
    "print(f\"\"\"The optimum model accuracy after feature engineering = {acc_opt*100} % and the optimum hyperparameters are as follows:\n",
    "    \n",
    "      Optimum n_hidden_layers = {n_opt},\n",
    "      Optimum activation = {act_opt},\n",
    "      Optimum solver/optimizer = {sol_opt}\n",
    "      Optimum LR = {lr_opt}\"\"\")"
   ]
  },
  {
   "cell_type": "code",
   "execution_count": 91,
   "metadata": {},
   "outputs": [
    {
     "name": "stdout",
     "output_type": "stream",
     "text": [
      "Performance metrics on training data:\n",
      "Accuracy of Optimum model after feature engineering: 92.81767955801105% \n",
      "F1 score = 0.9437229437229437\n"
     ]
    },
    {
     "data": {
      "image/png": "[encoded data removed]",
      "text/plain": [
       "<Figure size 432x288 with 2 Axes>"
      ]
     },
     "metadata": {
      "needs_background": "light"
     },
     "output_type": "display_data"
    }
   ],
   "source": [
    "# Performance metrics on training set \n",
    "\n",
    "clf =  MLPClassifier(random_state=1,hidden_layer_sizes=n_opt, \n",
    "                    activation=act_opt, solver=sol_opt,learning_rate_init=lr_opt) # Call optimum model\n",
    "\n",
    "true_classes = train_data['Classes'][:-3] # Labels\n",
    "accuracy, pred_classes = evaluate(clf, tr_dataset, tr_dataset) # Evaluate the model\n",
    "\n",
    "print('Performance metrics on training data:')\n",
    "print(f\"Accuracy of Optimum model after feature engineering: {accuracy*100}% \") # Final accuracy\n",
    "print(f'F1 score = {f1_score(true_classes, pred_classes)}') # F1 score\n",
    "conf_mat = confusion_matrix(true_classes, pred_classes) # Confusion matrix \n",
    "heat_map = seaborn.heatmap(conf_mat, annot=True) # Heatmap"
   ]
  },
  {
   "cell_type": "code",
   "execution_count": 92,
   "metadata": {},
   "outputs": [
    {
     "name": "stdout",
     "output_type": "stream",
     "text": [
      "Accuracy of Optimum model on test set after feature engineering: 85.0% \n",
      "F1 score = 0.8163265306122449\n"
     ]
    },
    {
     "data": {
      "image/png": "[encoded data removed]",
      "text/plain": [
       "<Figure size 432x288 with 2 Axes>"
      ]
     },
     "metadata": {
      "needs_background": "light"
     },
     "output_type": "display_data"
    }
   ],
   "source": [
    "# Evaluate the model \n",
    "\n",
    "clf =  MLPClassifier(random_state=1,hidden_layer_sizes=n_opt, \n",
    "                    activation=act_opt, solver=sol_opt,learning_rate_init=lr_opt) # Call optimum model\n",
    "\n",
    "true_classes = test_data['Classes'] # Labels\n",
    "accuracy, pred_classes = evaluate(clf, tr_dataset, test_dataset) # Evaluate the model\n",
    "\n",
    "print(f\"Accuracy of Optimum model on test set after feature engineering: {accuracy*100}% \") # Final accuracy\n",
    "print(f'F1 score = {f1_score(true_classes, pred_classes)}') # F1 score\n",
    "conf_mat = confusion_matrix(true_classes, pred_classes) # Confusion matrix \n",
    "heat_map = seaborn.heatmap(conf_mat, annot=True) # Heatmap"
   ]
  },
  {
   "cell_type": "markdown",
   "metadata": {},
   "source": [
    "# Trivial Classifier:"
   ]
  },
  {
   "cell_type": "code",
   "execution_count": 6,
   "metadata": {},
   "outputs": [
    {
     "name": "stdout",
     "output_type": "stream",
     "text": [
      "Performance measures on training set:\n",
      "Train accuracy = 62.5%\n",
      "F1 score = 0.7692307692307693\n",
      "Confusion matrix = [[  0  69]\n",
      " [  0 115]]\n",
      "Performance measures on test set:\n",
      "Test accuracy = 38.333333333333336%\n",
      "F1 score = 0.5542168674698795\n",
      "Confusion matrix = [[ 0 37]\n",
      " [ 0 23]]\n"
     ]
    }
   ],
   "source": [
    "# Trivial system that outputs class assignments (S1, S2) at random with\n",
    "# probability N1/N and N2/N, respectively; 𝑁' is the population of data points with class\n",
    "# label Si, and N is the total population of data points, all based on the training set\n",
    "\n",
    "X = np.array(train_data.drop(columns=['Date', 'Classes'])) # Input features\n",
    "y = np.array(train_data['Classes']) # Train Classes\n",
    "X_test = np.array(test_data.drop(columns=['Date', 'Classes'])) # Input features\n",
    "y_test = np.array(test_data['Classes']) # Test Classes\n",
    "dummy_clf = DummyClassifier(strategy=\"prior\") # Call dummy classifier\n",
    "dummy_clf.fit(X, y) # Train the model\n",
    "classes = dummy_clf.predict(X_test) # Predictions\n",
    "\n",
    "print('Performance measures on training set:')\n",
    "print(f'Train accuracy = {dummy_clf.score(X, y)*100}%')\n",
    "print(f'F1 score = {f1_score(y, dummy_clf.predict(X))}')\n",
    "print(f'Confusion matrix = {confusion_matrix(y, dummy_clf.predict(X))}')\n",
    "print('Performance measures on test set:')\n",
    "print(f'Test accuracy = {dummy_clf.score(X_test, y_test)*100}%')\n",
    "print(f'F1 score = {f1_score(y_test, classes)}')\n",
    "print(f'Confusion matrix = {confusion_matrix(y_test, classes)}')"
   ]
  },
  {
   "cell_type": "code",
   "execution_count": null,
   "metadata": {},
   "outputs": [],
   "source": []
  }
 ],
 "metadata": {
  "kernelspec": {
   "display_name": "Python 3 (ipykernel)",
   "language": "python",
   "name": "python3"
  },
  "language_info": {
   "codemirror_mode": {
    "name": "ipython",
    "version": 3
   },
   "file_extension": ".py",
   "mimetype": "text/x-python",
   "name": "python",
   "nbconvert_exporter": "python",
   "pygments_lexer": "ipython3",
   "version": "3.8.13"
  }
 },
 "nbformat": 4,
 "nbformat_minor": 4
}
